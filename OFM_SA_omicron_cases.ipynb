{
 "cells": [
  {
   "cell_type": "code",
   "execution_count": 1,
   "outputs": [],
   "source": [
    "\n",
    "import pandas as pd\n",
    "import seaborn as sns\n",
    "from scipy.interpolate import interp1d\n",
    "import matplotlib.pyplot as plt\n",
    "import numpy as np\n",
    "import datetime as dt"
   ],
   "metadata": {
    "collapsed": false
   }
  },
  {
   "cell_type": "markdown",
   "source": [
    "# Generation of standard input data for v1 model"
   ],
   "metadata": {
    "collapsed": false
   }
  },
  {
   "cell_type": "markdown",
   "source": [
    "# Experiment input data reconstruction\n",
    "- we know when the first submission of Omicron was done (GISAID source)\n",
    "\n",
    "# Assumptions\n",
    "- Assumption: currently very linear (not based on viral load peaks)\n",
    "- Assumption: uncounted cases is a constant (ie. linear)\n",
    "- Assumption: does not account for changes in testing rate\n",
    "- bias weeks by end of week (first known case is 9th Nov), because sampling numbers are reported on week of collection\n",
    "- CHECK: whether dates are represented correctly (ie. first day of first case, vs first day of month). Very important for policy application and output, because those work with dates instead."
   ],
   "metadata": {
    "collapsed": false
   }
  },
  {
   "cell_type": "markdown",
   "source": [
    "# Case numbers from CSSE: number of infectious people per day (proxy)\n",
    "note: this code section does the following:\n",
    "- apply a 'rolling inclusion' algorithm that lumps together cases from several days earlier and several days later, representing infectious people (TODO: cite papers here why)\n",
    "- multiply with a 'underestimation correction' factor to represent undetected cases. Currently set to 10, from NICD modelling estimates prior. Caveats at ADD.C\n",
    "\n",
    "note: some adjustments were made to the raw data:\n",
    "- time axis biased earlier in time to have similar curve as the PDPC factsheet table, which is in turn based from the NICD's own statistics. Even so, the numbers are slightly different (see ADD.B)\n",
    "- CSSE's correction of adding positive cases on a specific day was reversed due to very uncertain reasoning (see ADD.A)\n",
    "\n",
    "## Addendum\n",
    "- ADD.A: NICD announced a correction which led to a strong spike on one day. However, NICD's Twitter announcement on it is very unclear\n",
    "- ADD.B: the CSSE data seems to have a 1-day lag in general shape compared to NICD's own documents. However, the numbers are not exactly the same, and doesn't seem to be corrected for undetected cases.\n",
    "- ADD.C: the flat inflation factor is based on the NICD's modelling initiative at the start of the pandemic. In two updates, they mention an underestimation of 1:4 (detected vs total) to 1:10"
   ],
   "metadata": {
    "collapsed": false
   }
  },
  {
   "cell_type": "code",
   "execution_count": 2,
   "outputs": [],
   "source": [
    "# cases_dir = \"../data_factsheet\"\n",
    "# cases_file = \"SA_cases_nov2021.tsv\"\n",
    "# cases_df = pd.read_csv(f\"{cases_dir}/{cases_file}\", sep='\\t', comment='#').set_index('day')\n",
    "# # cases_df = cases_df.astype()  # for nullable format\n",
    "# read from CSSE raw data\n",
    "cases_df = pd.read_pickle(f\"data_input/data_CSSE.pickletable\")\n",
    "cases_df.index = cases_df.index.shift(periods=-1, freq='D')  # Apply time shift TODO annotate"
   ],
   "metadata": {
    "collapsed": false
   }
  },
  {
   "cell_type": "code",
   "execution_count": 3,
   "outputs": [],
   "source": [
    "# Constant definition for reference\n",
    "date_monthstart = '2021-11-01'  # start of november\n",
    "date_1st_omi = '2021-11-09'  # first reported case of Omicron\n"
   ],
   "metadata": {
    "collapsed": false
   }
  },
  {
   "cell_type": "code",
   "execution_count": 4,
   "outputs": [],
   "source": [
    "# this block makes a rudimentary estimate of the current number of infectious persons\n",
    "# 'count fore' assumes future daily cases are part of the infectious group\n",
    "count_pre_n = 3  # source Kim EA 2022 & internal\n",
    "count_post_n = 10  #\n",
    "INFL_FACTOR = 10  # inflation factor, assumed constant\n",
    "\n",
    "\"\"\" Rolling inclusion algorithm:\n",
    "Includes cases several days before and after the report date\n",
    "<A> also include last day (hence +1) \"\"\"\n",
    "daily_sum = {}\n",
    "for idx in cases_df.index:\n",
    "    ilocidx = cases_df.index.get_loc(idx)\n",
    "    daily_sum[idx] = cases_df.iloc[ilocidx - count_post_n\n",
    "                                   :ilocidx + count_pre_n + 1].sum()  # <A>\n",
    "\n",
    "# NOTE to truncate fore and aft of the generate points, due to overflow TODO revise for clarity\n",
    "\n",
    "# create new DF for all cases in that time period\n",
    "infectious = pd.DataFrame.from_dict(daily_sum, orient='index')\n",
    "\n",
    "# apply inflation\n",
    "infectious_infl = infectious * INFL_FACTOR\n",
    "\n",
    "# save to pickle (or leave for later)\n",
    "# cases_df.to_pickle('data_input/data_cases_factsheet.pickletable')"
   ],
   "metadata": {
    "collapsed": false
   }
  },
  {
   "cell_type": "code",
   "execution_count": 5,
   "outputs": [],
   "source": [
    "# from interpolant of samples, we want to estimate the number of Omicron cases from cases numbers\n",
    "# date_nominal = \"2021-11-26\"  # nominal policy date\n",
    "# date_end = \"2021-12-10\"  # latest policy is 2 weeks after 26th, NOTE december\n"
   ],
   "metadata": {
    "collapsed": false
   }
  },
  {
   "cell_type": "code",
   "execution_count": 6,
   "outputs": [],
   "source": [
    "# gather dates of interest, starting on first observation (9th Nov 2021). End date is already truncated to 31st Jan 2022\n",
    "infectious_infl = infectious_infl.loc[date_1st_omi:, :]\n",
    "infectious_noinfl = infectious.loc[date_1st_omi:, :]  # another for non-inflated numbers\n",
    "\n",
    "# convert from dates to number of days, for interpolation scheme to work. We start from 0 as 1st day (pythonic count) for consistency\n",
    "cases_days_elapsed = (infectious_infl.index - pd.to_datetime(date_1st_omi)).days\n",
    "# date_day_ref = dict(zip(days_elapsed, cases_daily_roll.index))\n"
   ],
   "metadata": {
    "collapsed": false
   }
  },
  {
   "cell_type": "markdown",
   "source": [
    "# Samples from GISAID: proportion of Omicron in population (by proxy)\n",
    "note (expand later)\n",
    "- week bias forward\n",
    "- assumption of continuousness (and not noisy)"
   ],
   "metadata": {
    "collapsed": false
   }
  },
  {
   "cell_type": "code",
   "execution_count": 7,
   "outputs": [],
   "source": [
    "# read data file\n",
    "samples_dir = '../data_gisaid'\n",
    "samples_file = 'omicron_samples_SA.pickletable'\n",
    "samples_df = pd.read_pickle(f'{samples_dir}/{samples_file}')"
   ],
   "metadata": {
    "collapsed": false
   }
  },
  {
   "cell_type": "code",
   "execution_count": 8,
   "outputs": [],
   "source": [
    "# Bias weeks forward because of weekly sampling reporting (samples for the week are reported on the earlier Sunday)\n",
    "samples_df.index = pd.to_datetime(samples_df.index) + pd.to_timedelta(arg=1, unit='W')\n",
    "\n",
    "# Add data points for interpolation work\n",
    "samples_df.loc[pd.to_datetime(date_monthstart)] = [0, 0, 0]\n",
    "samples_df.loc[pd.to_datetime(date_1st_omi) - dt.timedelta(days=1)] = [0, 0, 0]\n",
    "# ^ set day before 1st Omicron to be 0 for interpolation\n",
    "samples_df = samples_df.sort_index() # sort to be in correct order again\n",
    "\n",
    "# Convert dates to days again\n",
    "samples_df['delta'] = pd.to_timedelta(\n",
    "        pd.to_datetime(samples_df.index) - pd.to_datetime(date_1st_omi)\n",
    "    , unit='D').days  # converts to days, where omicron 1st observation = 0\n",
    "\n",
    "# save samples to model input folder\n",
    "# samples_df.to_pickle('data_input/omicron_samples_SA_mod1.pickletable')"
   ],
   "metadata": {
    "collapsed": false
   }
  },
  {
   "cell_type": "markdown",
   "source": [
    "# Estimating Omicron cases in SA\n",
    "This section estimates the number of Omicron cases in SA starting from the first day of observation (9th Nov 2021), via the following steps:\n",
    "1. As Omicron was competing with Delta, the share of Omicron cases increases per day in SA. This is represented by an interpolation function based on the weekly sampling data, which estimates the proportion of Omicron cases amongst the daily COVID cases.\n",
    "2. Multiply this proportion information with the SA daily case statistics, to get the number of infectious Omicron carriers per day.\n",
    "\n",
    "NOTE!: the ordering of inflation before interpolation may be incorrect. This might be revised later."
   ],
   "metadata": {
    "collapsed": false
   }
  },
  {
   "cell_type": "code",
   "execution_count": 9,
   "outputs": [],
   "source": [
    "# create interpolation function, using delta time [days since 1st omicron case].\n",
    "# 'linear' setting because of weird harmonics from quadratic fitting.\n",
    "omicron_ratio_fx = interp1d(x=samples_df['delta'], y=samples_df['ratio'], kind='linear')\n",
    "\n",
    "# apply interpolation to get proportion of Omicron infectious per day\n",
    "infectious_omi_pct = omicron_ratio_fx(cases_days_elapsed)"
   ],
   "metadata": {
    "collapsed": false
   }
  },
  {
   "cell_type": "code",
   "execution_count": 17,
   "outputs": [],
   "source": [
    "# infectious_omi_pct_series = pd.Series(infectious_omi_pct)"
   ],
   "metadata": {
    "collapsed": false
   }
  },
  {
   "cell_type": "code",
   "execution_count": 10,
   "outputs": [],
   "source": [
    "# simple test plot\n",
    "# x = np.arange(interp_f1.x.min(), interp_f1.x.max())\n",
    "# plt.plot(x, interp_f1(x), label='linear')\n",
    "# plt.plot(x,interp_f2(x), label='quadratic')\n",
    "# plt.legend()"
   ],
   "metadata": {
    "collapsed": false
   }
  },
  {
   "cell_type": "code",
   "execution_count": 11,
   "outputs": [],
   "source": [
    "infectious_omi = infectious_infl.squeeze() * infectious_omi_pct  # squeeze to coerce into Series, otherwise error\n",
    "infectious_omi_noinfl = infectious_noinfl.squeeze() * infectious_omi_pct\n",
    "# find prevalence in SA\n",
    "pop_sa = int(60.142978e6)  # from factsheet\n",
    "flightpax_direct = 4839  # from Schiphol document\n",
    "flightpax_indirect = 980  # ditto\n",
    "flightpax_transfer = 7303  # ditto, but only transferring people through Schiphol\n",
    "\n",
    "flightpax_daily = (flightpax_direct + flightpax_indirect) / 30  # from schiphol, direct flights\n",
    "prevalence_omi = infectious_omi / pop_sa\n",
    "flightpax_omi = prevalence_omi * flightpax_daily\n",
    "\n",
    "# also create for uninflated versions\n",
    "prevalence_omi_noinfl = infectious_omi_noinfl / pop_sa\n",
    "flightpax_omi_noinfl = prevalence_omi_noinfl * flightpax_daily"
   ],
   "metadata": {
    "collapsed": false
   }
  },
  {
   "cell_type": "code",
   "execution_count": 12,
   "outputs": [
    {
     "data": {
      "text/plain": "0.15385308751350346"
     },
     "execution_count": 12,
     "metadata": {},
     "output_type": "execute_result"
    }
   ],
   "source": [
    "# flightpax_omi.loc[\"2021-11-09\":\"2021-11-25\"].sum() * 2\n",
    "flightpax_omi_noinfl.loc[\"2021-11-09\":\"2021-11-25\"].sum()\n"
   ],
   "metadata": {
    "collapsed": false
   }
  },
  {
   "cell_type": "code",
   "execution_count": 13,
   "outputs": [],
   "source": [
    "flightpax_omi_noinfl_elapsed = flightpax_omi_noinfl.to_frame(name='import_pax')\n",
    "flightpax_omi_noinfl_elapsed['prevalence'] = prevalence_omi_noinfl\n",
    "flightpax_omi_noinfl_elapsed['day'] = cases_days_elapsed.values\n",
    "flightpax_omi_noinfl_elapsed = flightpax_omi_noinfl_elapsed.reset_index(names='date').set_index('day')\n",
    "flightpax_omi_noinfl_elapsed.to_pickle('data_input/omi_prevalence_flights_not_inflated.pickletable')"
   ],
   "metadata": {
    "collapsed": false
   }
  },
  {
   "cell_type": "code",
   "execution_count": 13,
   "outputs": [],
   "source": [],
   "metadata": {
    "collapsed": false
   }
  },
  {
   "cell_type": "code",
   "execution_count": 14,
   "outputs": [],
   "source": [
    "# create dumb generator\n",
    "# prob_roll = np.random.rand(prevalence_omi.size,int(round(flightpax_daily)))"
   ],
   "metadata": {
    "collapsed": false
   }
  },
  {
   "cell_type": "code",
   "execution_count": 15,
   "outputs": [],
   "source": [
    "# np.less(prob_roll,prevalence_omi.to_numpy()[:,np.newaxis]).sum(axis=1)\n",
    "# for ridx, prob in enumerate(prevalence_omi):\n",
    "\n"
   ],
   "metadata": {
    "collapsed": false
   }
  },
  {
   "cell_type": "markdown",
   "source": [
    "#  Preliminary build for class-style construction\n",
    "Cold storage for now"
   ],
   "metadata": {
    "collapsed": false
   }
  },
  {
   "cell_type": "code",
   "execution_count": 16,
   "outputs": [],
   "source": [
    "# from typing import Callable, Dict, Tuple\n",
    "#\n",
    "# # this class should be refactored later for experimental design, for efficiency\n",
    "# class OI_importer_build:\n",
    "#\n",
    "#     def __init__(self, path_samples):\n",
    "#         # putting down some known variables\n",
    "#         # self.date_ref : str  # default, is it necessary?\n",
    "#         self.path_samples : str = path_samples # default\n",
    "#         self.path_cases : str  # default\n",
    "#         self.daily_pax_flights: int|Dict # number of inbound passengers, either constant or dict/function (future)\n",
    "#         self.daily_imports: float\n",
    "#         self.samples_tbias: int  # time bias for sampling curve fore/aft of data\n",
    "#         self.cases_tbias: int # time bias for cases\n",
    "#         self.cases_tinclude: int # time inclusion for fore/aft cases. May extend to tuple for both fore and aft inclusion (which might need a custom function)\n",
    "#\n",
    "#         self.omi_ratio_input = None # inputs for the interp1d\n",
    "#         self.omi_ratio_curve = None # function itself, output of samples submodule\n",
    "#         self.omi_ratio_daily = None # dict lookup\n",
    "#         self.cases_lookup = None # lookup (prolly dict) of daily cases emerging\n",
    "#         self.t_restrict: int|None # day (delta) on which flights are restricted\n",
    "#\n",
    "#         pass\n",
    "#\n",
    "#     def generate_omicron_ratios(self):\n",
    "#         # read from pickle and generate interp1d function and dict\n",
    "#         self.omi_ratio_input = pd.read_pickle(self.path_samples)\n",
    "#         pass"
   ],
   "metadata": {
    "collapsed": false
   }
  }
 ],
 "metadata": {
  "kernelspec": {
   "display_name": "Python 3",
   "language": "python",
   "name": "python3"
  },
  "language_info": {
   "codemirror_mode": {
    "name": "ipython",
    "version": 2
   },
   "file_extension": ".py",
   "mimetype": "text/x-python",
   "name": "python",
   "nbconvert_exporter": "python",
   "pygments_lexer": "ipython2",
   "version": "2.7.6"
  }
 },
 "nbformat": 4,
 "nbformat_minor": 0
}
