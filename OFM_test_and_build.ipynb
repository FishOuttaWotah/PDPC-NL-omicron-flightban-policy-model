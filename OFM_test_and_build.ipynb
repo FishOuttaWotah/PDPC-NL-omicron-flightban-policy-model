{
 "cells": [
  {
   "cell_type": "code",
   "execution_count": 1,
   "metadata": {
    "collapsed": true,
    "ExecuteTime": {
     "end_time": "2023-07-10T07:08:32.582897300Z",
     "start_time": "2023-07-10T07:08:32.444269600Z"
    }
   },
   "outputs": [],
   "source": [
    "import os, sys\n",
    "os.chdir('e:\\Downloads (E)\\@Books\\@TPM\\@PDPC\\@data_analysis\\model_build')\n",
    "sys.path.append('e:\\Downloads (E)\\@Books\\@TPM\\@PDPC\\@data_analysis\\model_build')\n",
    "# ^ just a sanity thing: console starts from project root, but pycharm 'run in console' runs with 'model_build' as working directory\n",
    "\n",
    "import OFM_model as ofm\n",
    "import OFM_sensitivity as ofms\n",
    "import pandas as pd\n",
    "import numpy as np\n",
    "# import itertools\n",
    "# import seaborn as sns\n",
    "# import matplotlib.pyplot as plt\n",
    "# from matplotlib.colors import TwoSlopeNorm\n",
    "# import cmasher as cmr\n",
    "# import colorcet as cet\n",
    "from importlib import reload  ## for reloading packages\n",
    "import scipy\n",
    "# import pickle"
   ]
  },
  {
   "cell_type": "code",
   "execution_count": 2,
   "outputs": [],
   "source": [
    "# reload(ofm)\n",
    "# test_i_flights = pd.Series(np.arange(0, 20))\n",
    "# test_i_nonflights = pd.Series([1]*20)\n",
    "# test_i_other = pd.Series({5:1})\n",
    "# test_i_blank = pd.Series(dtype='float64')\n",
    "#\n",
    "# test_model = ofm.ISIRmodel_SingleRun(\n",
    "#     R_zero=1,\n",
    "#     t_incubation=1,\n",
    "#     func_infectious=[0,0,0],\n",
    "#     pop_total=100,\n",
    "#     sim_time=100,\n",
    "#     imports_flights=test_i_flights,\n",
    "#     imports_indirect=test_i_nonflights,\n",
    "#     imports_other=test_i_other,\n",
    "#     flightban_on=10,\n",
    "# )"
   ],
   "metadata": {
    "collapsed": false,
    "ExecuteTime": {
     "end_time": "2023-07-10T07:08:32.591872500Z",
     "start_time": "2023-07-10T07:08:32.578910Z"
    }
   }
  },
  {
   "cell_type": "code",
   "execution_count": 3,
   "outputs": [],
   "source": [
    "imports_path = \"data_input/infectious_func_rw.pickletable\"\n",
    "\n",
    "imports_df = pd.read_pickle(imports_path)"
   ],
   "metadata": {
    "collapsed": false,
    "ExecuteTime": {
     "end_time": "2023-07-10T07:08:32.609824900Z",
     "start_time": "2023-07-10T07:08:32.594866400Z"
    }
   }
  },
  {
   "cell_type": "code",
   "execution_count": 4,
   "outputs": [],
   "source": [
    "ref_day = imports_df.loc[imports_df['date'] == '2021-11-26', :].index[0]"
   ],
   "metadata": {
    "collapsed": false,
    "ExecuteTime": {
     "end_time": "2023-07-10T07:08:32.628774600Z",
     "start_time": "2023-07-10T07:08:32.610822800Z"
    }
   }
  },
  {
   "cell_type": "code",
   "execution_count": 5,
   "outputs": [],
   "source": [
    "\n",
    "p_flightbans = range(-7, 57, 1)  # 1-day increments since -7 (week earlier) till 56 days\n",
    "s_flightbans = range(-3, 4, 1)\n",
    "R_range = list(np.arange(11, 31, 1) / 10)\n",
    "\n",
    "model_vers = 'v4.1'\n",
    "pop_NL = int(17.48e6)  # 17.48 million\n",
    "\n",
    "# generate infectious distribution for v2\n",
    "available_distributions = {\n",
    "    'alpha': (2.0, 0.44),\n",
    "    'delta': (2.11, 0.50),\n",
    "    'omicron': (2.14, 0.59)\n",
    "}\n",
    "a = 2.14\n",
    "rate = .59\n",
    "x = range(0, 20, 1)\n",
    "func_serial = scipy.stats.gamma.pdf(x=x, a=a, scale=1 / rate, loc=-1)\n",
    "func_serial_cdf = scipy.stats.gamma.cdf(x=x, a=a, scale=1 / rate, loc=-1)  # for illustration\n",
    "# design a cutoff\n",
    "# Note: truncation of day 0 entry\n"
   ],
   "metadata": {
    "collapsed": false,
    "ExecuteTime": {
     "end_time": "2023-07-10T07:08:32.642958100Z",
     "start_time": "2023-07-10T07:08:32.626784Z"
    }
   }
  },
  {
   "cell_type": "code",
   "execution_count": 6,
   "outputs": [],
   "source": [
    "test_i_nonflights = pd.Series([1]*20)\n",
    "test_i_other = pd.Series({5:100})\n",
    "test_i_blank = pd.Series(dtype='float64')"
   ],
   "metadata": {
    "collapsed": false,
    "ExecuteTime": {
     "end_time": "2023-07-10T07:08:32.663899800Z",
     "start_time": "2023-07-10T07:08:32.638969300Z"
    }
   }
  },
  {
   "cell_type": "code",
   "execution_count": 15,
   "outputs": [],
   "source": [
    "reload(ofm)\n",
    "# np.seterr(all='raise')\n",
    "experiments = ofm.ISIR_PolicyExperiments(\n",
    " u_ImportsFunc=imports_df['infect_pax'],\n",
    " p_FlightBans=(-7, 0, 7),\n",
    " u_ImportsIndirect=(0.1,0.2,0.3),\n",
    " u_Rzero=(1.3,),\n",
    " u_ImportsFlights=(15,30,45, 60),\n",
    " u_Func_Infectious= (func_serial,),\n",
    " c_SimTime=300,\n",
    " c_import_scaling_mode=2,  # **\n",
    " c_model_engine='step_v2_variable_beta',\n",
    " s_indirect_import_mode=2,\n",
    " # s_starting_S_size = (0.5,),\n",
    " debug_mode=False,\n",
    "    sim_mode=True,\n",
    ")"
   ],
   "metadata": {
    "collapsed": false,
    "ExecuteTime": {
     "end_time": "2023-07-10T07:18:09.561500200Z",
     "start_time": "2023-07-10T07:18:09.523626500Z"
    }
   }
  },
  {
   "cell_type": "code",
   "execution_count": 16,
   "outputs": [
    {
     "name": "stdout",
     "output_type": "stream",
     "text": [
      "OFM_PE: Running MULTIPROCESS mode with 36 experiments\n"
     ]
    },
    {
     "name": "stderr",
     "output_type": "stream",
     "text": [
      "100%|██████████| 36/36 [00:03<00:00, 10.73it/s]"
     ]
    },
    {
     "name": "stdout",
     "output_type": "stream",
     "text": [
      "OFM_PE: all experiments completed at 0.06 mins\n"
     ]
    },
    {
     "name": "stderr",
     "output_type": "stream",
     "text": [
      "\n"
     ]
    }
   ],
   "source": [
    "\n",
    "# experiments.run_experiments()\n",
    "experiments.run_experiments_multiprocess(n_workers=5)\n",
    "# debuggo = experiments.debug_experiment"
   ],
   "metadata": {
    "collapsed": false,
    "ExecuteTime": {
     "end_time": "2023-07-10T07:18:17.411203Z",
     "start_time": "2023-07-10T07:18:13.958432700Z"
    }
   }
  },
  {
   "cell_type": "code",
   "execution_count": 17,
   "outputs": [],
   "source": [
    "experiments.reshape_MP_output(experiments.scenarios,experiments.experiments)\n",
    "# multirun_results = list(experiments.experiments)"
   ],
   "metadata": {
    "collapsed": false,
    "ExecuteTime": {
     "end_time": "2023-07-10T07:19:10.132547300Z",
     "start_time": "2023-07-10T07:19:10.108611100Z"
    }
   }
  },
  {
   "cell_type": "markdown",
   "source": [
    "# sensitivity analysis build debug"
   ],
   "metadata": {
    "collapsed": false
   }
  },
  {
   "cell_type": "code",
   "execution_count": 10,
   "outputs": [],
   "source": [
    "reload(ofm)  # reload this first because ofms is dependent on this\n",
    "reload(ofms)\n",
    "\n",
    "sens_exp = ofms.ISIR_SensitivityExperiments(\n",
    " sa_method='sobol',\n",
    " n_samples=1024,\n",
    "    # TODO: incomplete\n",
    "    u_ImportsFunc = imports_df['infect_pax'],\n",
    "     p_FlightBans=tuple(range(-2, 15, 1)),\n",
    "     u_ImportsIndirect=(0., 0.1, 0.2, 0.3),\n",
    "     u_Rzero=list(np.arange(12,20, 1)/10),\n",
    "     u_ImportsFlights=(15, 30, 45, 60),\n",
    "     u_Func_Infectious= (func_serial,),\n",
    "     c_SimTime=120,\n",
    "     c_import_scaling_mode=2,  # **\n",
    "     c_model_engine='step_v2_variable_beta',\n",
    "     s_indirect_import_mode=2,\n",
    "     # s_starting_S_size = (0.5,),\n",
    "     debug_mode=False,\n",
    "     sim_mode=True,\n",
    ")"
   ],
   "metadata": {
    "collapsed": false,
    "ExecuteTime": {
     "end_time": "2023-06-27T13:03:49.390061700Z",
     "start_time": "2023-06-27T13:03:49.150289400Z"
    }
   }
  },
  {
   "cell_type": "code",
   "execution_count": 11,
   "outputs": [
    {
     "name": "stdout",
     "output_type": "stream",
     "text": [
      "OFM_PE: Running MULTIPROCESS mode with 10240 experiments\n"
     ]
    },
    {
     "name": "stderr",
     "output_type": "stream",
     "text": [
      "100%|██████████| 10240/10240 [04:00<00:00, 42.64it/s]\n"
     ]
    },
    {
     "name": "stdout",
     "output_type": "stream",
     "text": [
      "OFM_PE: all experiments completed at 4.01 mins\n"
     ]
    }
   ],
   "source": [
    "sens_exp.ISIR_evaluate_mp(n_workers=6)"
   ],
   "metadata": {
    "collapsed": false,
    "ExecuteTime": {
     "end_time": "2023-06-27T13:07:49.928982600Z",
     "start_time": "2023-06-27T13:03:49.392580900Z"
    }
   }
  },
  {
   "cell_type": "code",
   "execution_count": 12,
   "outputs": [
    {
     "data": {
      "text/plain": "<bound method ProblemSpec.analyze of {'names': ['u_Rzero', 'p_FlightBans', 'u_ImportsFlights', 'u_ImportsIndirect'], 'num_vars': 4, 'bounds': array([[ 0,  8],\n       [ 0, 17],\n       [ 0,  4],\n       [ 0,  4]]), 'groups': None, 'outputs': ['days_10k_cumulative', 'days_5k_daily', 'resultant_infected', 'duration', 'peak_day', 'peak_value'], 'dists': None, 'sample_scaled': True}>"
     },
     "execution_count": 12,
     "metadata": {},
     "output_type": "execute_result"
    }
   ],
   "source": [
    "sens_exp.ISIR_analyse()"
   ],
   "metadata": {
    "collapsed": false,
    "ExecuteTime": {
     "end_time": "2023-06-27T13:07:53.546366100Z",
     "start_time": "2023-06-27T13:07:52.518834Z"
    }
   }
  },
  {
   "cell_type": "code",
   "execution_count": 13,
   "outputs": [
    {
     "name": "stdout",
     "output_type": "stream",
     "text": [
      "Samples:\n",
      "\t4 parameters: ['u_Rzero', 'p_FlightBans', 'u_ImportsFlights', 'u_ImportsIndirect']\n",
      "\t10240 evaluations \n",
      "\n",
      "Outputs:\n",
      "\t6 outputs: ['days_10k_cumulative', 'days_5k_daily', 'resultant_infected', 'duration', 'peak_day', 'peak_value']\n",
      "\t10240 evaluations \n",
      "\n",
      "Analysis:\n",
      "days_10k_cumulative:\n",
      "                         ST   ST_conf\n",
      "u_Rzero            0.501707  0.108106\n",
      "p_FlightBans       0.259832  0.070395\n",
      "u_ImportsFlights   0.219827  0.039397\n",
      "u_ImportsIndirect  0.307815  0.099807 \n",
      "\n",
      "                         S1   S1_conf\n",
      "u_Rzero            0.334940  0.079628\n",
      "p_FlightBans       0.121054  0.034046\n",
      "u_ImportsFlights   0.198283  0.044832\n",
      "u_ImportsIndirect  0.128408  0.061497 \n",
      "\n",
      "                                             S2   S2_conf\n",
      "(u_Rzero, p_FlightBans)                0.034820  0.113744\n",
      "(u_Rzero, u_ImportsFlights)           -0.006205  0.095112\n",
      "(u_Rzero, u_ImportsIndirect)           0.054158  0.109152\n",
      "(p_FlightBans, u_ImportsFlights)       0.005277  0.055113\n",
      "(p_FlightBans, u_ImportsIndirect)      0.070650  0.097344\n",
      "(u_ImportsFlights, u_ImportsIndirect)  0.016506  0.081090 \n",
      "\n",
      "days_5k_daily:\n",
      "                         ST   ST_conf\n",
      "u_Rzero            0.649884  0.112222\n",
      "p_FlightBans       0.121541  0.032439\n",
      "u_ImportsFlights   0.110846  0.020791\n",
      "u_ImportsIndirect  0.412514  0.093199 \n",
      "\n",
      "                         S1   S1_conf\n",
      "u_Rzero            0.424807  0.098528\n",
      "p_FlightBans       0.045146  0.020458\n",
      "u_ImportsFlights   0.090147  0.026457\n",
      "u_ImportsIndirect  0.187400  0.075334 \n",
      "\n",
      "                                             S2   S2_conf\n",
      "(u_Rzero, p_FlightBans)                0.022457  0.145458\n",
      "(u_Rzero, u_ImportsFlights)            0.014963  0.140264\n",
      "(u_Rzero, u_ImportsIndirect)           0.165256  0.167076\n",
      "(p_FlightBans, u_ImportsFlights)       0.004614  0.036514\n",
      "(p_FlightBans, u_ImportsIndirect)      0.040342  0.065011\n",
      "(u_ImportsFlights, u_ImportsIndirect)  0.007585  0.052725 \n",
      "\n",
      "resultant_infected:\n",
      "                         ST   ST_conf\n",
      "u_Rzero            0.984793  0.062578\n",
      "p_FlightBans       0.006958  0.002827\n",
      "u_ImportsFlights   0.007442  0.001540\n",
      "u_ImportsIndirect  0.034708  0.007775 \n",
      "\n",
      "                         S1   S1_conf\n",
      "u_Rzero            0.956946  0.072969\n",
      "p_FlightBans       0.002837  0.006932\n",
      "u_ImportsFlights   0.002251  0.008086\n",
      "u_ImportsIndirect  0.008224  0.017128 \n",
      "\n",
      "                                             S2   S2_conf\n",
      "(u_Rzero, p_FlightBans)                0.000982  0.098382\n",
      "(u_Rzero, u_ImportsFlights)            0.005135  0.096296\n",
      "(u_Rzero, u_ImportsIndirect)           0.022923  0.108491\n",
      "(p_FlightBans, u_ImportsFlights)      -0.000935  0.009620\n",
      "(p_FlightBans, u_ImportsIndirect)     -0.000367  0.010202\n",
      "(u_ImportsFlights, u_ImportsIndirect) -0.000013  0.013798 \n",
      "\n",
      "duration:\n",
      "                         ST   ST_conf\n",
      "u_Rzero            0.895726  0.078433\n",
      "p_FlightBans       0.123153  0.037987\n",
      "u_ImportsFlights   0.067005  0.013651\n",
      "u_ImportsIndirect  0.203182  0.058214 \n",
      "\n",
      "                         S1   S1_conf\n",
      "u_Rzero            0.680339  0.082407\n",
      "p_FlightBans       0.017185  0.028504\n",
      "u_ImportsFlights   0.014992  0.020504\n",
      "u_ImportsIndirect  0.041600  0.044387 \n",
      "\n",
      "                                             S2   S2_conf\n",
      "(u_Rzero, p_FlightBans)                0.047552  0.068365\n",
      "(u_Rzero, u_ImportsFlights)            0.033151  0.067545\n",
      "(u_Rzero, u_ImportsIndirect)           0.091341  0.077504\n",
      "(p_FlightBans, u_ImportsFlights)       0.012361  0.039342\n",
      "(p_FlightBans, u_ImportsIndirect)      0.032475  0.046176\n",
      "(u_ImportsFlights, u_ImportsIndirect)  0.014048  0.033685 \n",
      "\n",
      "peak_day:\n",
      "                         ST   ST_conf\n",
      "u_Rzero            0.870427  0.067279\n",
      "p_FlightBans       0.020263  0.004038\n",
      "u_ImportsFlights   0.053411  0.006728\n",
      "u_ImportsIndirect  0.115571  0.016705 \n",
      "\n",
      "                         S1   S1_conf\n",
      "u_Rzero            0.820993  0.074094\n",
      "p_FlightBans       0.009500  0.010644\n",
      "u_ImportsFlights   0.042304  0.019495\n",
      "u_ImportsIndirect  0.074456  0.030486 \n",
      "\n",
      "                                             S2   S2_conf\n",
      "(u_Rzero, p_FlightBans)                0.001624  0.099411\n",
      "(u_Rzero, u_ImportsFlights)            0.006392  0.101420\n",
      "(u_Rzero, u_ImportsIndirect)           0.029408  0.118340\n",
      "(p_FlightBans, u_ImportsFlights)       0.002808  0.016957\n",
      "(p_FlightBans, u_ImportsIndirect)      0.005363  0.018985\n",
      "(u_ImportsFlights, u_ImportsIndirect)  0.001640  0.026684 \n",
      "\n",
      "peak_value:\n",
      "                         ST   ST_conf\n",
      "u_Rzero            0.998674  0.065705\n",
      "p_FlightBans       0.000285  0.000140\n",
      "u_ImportsFlights   0.000336  0.000105\n",
      "u_ImportsIndirect  0.001319  0.000352 \n",
      "\n",
      "                         S1   S1_conf\n",
      "u_Rzero            0.998372  0.076677\n",
      "p_FlightBans       0.000531  0.001553\n",
      "u_ImportsFlights   0.000401  0.001497\n",
      "u_ImportsIndirect -0.000014  0.003150 \n",
      "\n",
      "                                             S2   S2_conf\n",
      "(u_Rzero, p_FlightBans)               -0.000269  0.076073\n",
      "(u_Rzero, u_ImportsFlights)           -0.000130  0.075854\n",
      "(u_Rzero, u_ImportsIndirect)           0.001404  0.076405\n",
      "(p_FlightBans, u_ImportsFlights)      -0.000448  0.001928\n",
      "(p_FlightBans, u_ImportsIndirect)     -0.000417  0.001973\n",
      "(u_ImportsFlights, u_ImportsIndirect) -0.000246  0.002189 \n",
      "\n",
      "\n"
     ]
    }
   ],
   "source": [
    "print(sens_exp.problem)"
   ],
   "metadata": {
    "collapsed": false,
    "ExecuteTime": {
     "end_time": "2023-06-27T13:08:02.947998700Z",
     "start_time": "2023-06-27T13:08:02.882656800Z"
    }
   }
  },
  {
   "cell_type": "code",
   "execution_count": 0,
   "outputs": [],
   "source": [
    "a1 = pd.DataFrame.from_dict(dict(sens_exp.experiments), orient='index')\n",
    "a2 = a1.to_numpy()\n",
    "sens_exp.problem['outputs'] = a1.columns.tolist()"
   ],
   "metadata": {
    "collapsed": false
   }
  },
  {
   "cell_type": "code",
   "execution_count": 27,
   "outputs": [
    {
     "data": {
      "text/plain": "{'names': ['u_ImportsFlights', 'u_Rzero', 'u_ImportsIndirect', 'p_FlightBans'],\n 'num_vars': 4,\n 'bounds': array([[0, 4],\n        [0, 4],\n        [0, 4],\n        [0, 4]]),\n 'groups': None,\n 'outputs': ['days_10k_cumulative',\n  'days_5k_daily',\n  'resultant_infected',\n  'duration',\n  'peak_day',\n  'peak_value'],\n 'dists': None,\n 'sample_scaled': True}"
     },
     "execution_count": 27,
     "metadata": {},
     "output_type": "execute_result"
    }
   ],
   "source": [
    "sens_exp.problem.set_results(a2)\n",
    "sens_exp.problem.analyze(sens_exp._analyser)\n"
   ],
   "metadata": {
    "collapsed": false,
    "ExecuteTime": {
     "end_time": "2023-06-26T10:26:54.666895600Z",
     "start_time": "2023-06-26T10:26:54.642378600Z"
    }
   }
  },
  {
   "cell_type": "code",
   "execution_count": 31,
   "outputs": [
    {
     "data": {
      "text/plain": "                                       days_10k_cumulative  \\\nS1       [0.10222674726128124, 0.3141273961559589, 0.18...   \nS1_conf  [0.10703464184579206, 0.13149901664901067, 0.1...   \nST       [0.1254944165706115, 0.4537105829860569, 0.380...   \nST_conf  [0.0924199220982782, 0.3692477874625456, 0.268...   \nS2       [[nan, 0.028817568566062046, 0.019164151906784...   \nS2_conf  [[nan, 0.14771163455513397, 0.1486053241944691...   \n\n                                             days_5k_daily  \\\nS1       [0.040681826306311904, 0.3810471340838643, 0.2...   \nS1_conf  [0.10748675669217123, 0.16624342173382226, 0.1...   \nST       [0.10121701783469284, 0.5952288352729731, 0.48...   \nST_conf  [0.07875625678084436, 0.4780769273169466, 0.33...   \nS2       [[nan, 0.058893378177406364, 0.044008522613480...   \nS2_conf  [[nan, 0.16720477189237293, 0.1668816428882461...   \n\n                                        resultant_infected  \\\nS1       [-0.001755913385446413, 0.9417176977646745, 0....   \nS1_conf  [0.02204898183793534, 0.35316794331978635, 0.0...   \nST       [0.006179944219319035, 1.046990209257154, 0.07...   \nST_conf  [0.005501220553014215, 0.3904050299272703, 0.0...   \nS2       [[nan, 0.024767091295604504, 0.009577852554049...   \nS2_conf  [[nan, 0.05658857159029375, 0.0396293052607296...   \n\n                                                  duration  \\\nS1       [-0.0031640286642646014, 0.6160236672462538, 0...   \nS1_conf  [0.05100429909399256, 0.3266996511838595, 0.16...   \nST       [0.03449486898568997, 0.9689268067246103, 0.20...   \nST_conf  [0.017076540054664618, 0.3102497066175255, 0.1...   \nS2       [[nan, 0.029114341090355822, 0.005318158869351...   \nS2_conf  [[nan, 0.09506226162847561, 0.1040670182539510...   \n\n                                                  peak_day  \\\nS1       [0.03257522202708029, 0.8184853786696201, 0.09...   \nS1_conf  [0.08964271332162595, 0.26011686142164114, 0.1...   \nST       [0.05791286051271614, 0.8327462935689894, 0.20...   \nST_conf  [0.02788801174982767, 0.24711414524570544, 0.1...   \nS2       [[nan, -0.00802397922630127, 0.012987212973750...   \nS2_conf  [[nan, 0.17269082059046392, 0.0984644644428569...   \n\n                                                peak_value  \nS1       [-0.0005299356925107786, 1.0043473363899682, -...  \nS1_conf  [0.004914298635689227, 0.2843796367915384, 0.0...  \nST       [0.00020333789723037257, 1.001186242344622, 0....  \nST_conf  [0.00010233445909333259, 0.24788462326978705, ...  \nS2       [[nan, 0.003878447781845651, 0.001798377788299...  \nS2_conf  [[nan, 0.011351396391226017, 0.008223195429339...  ",
      "text/html": "<div>\n<style scoped>\n    .dataframe tbody tr th:only-of-type {\n        vertical-align: middle;\n    }\n\n    .dataframe tbody tr th {\n        vertical-align: top;\n    }\n\n    .dataframe thead th {\n        text-align: right;\n    }\n</style>\n<table border=\"1\" class=\"dataframe\">\n  <thead>\n    <tr style=\"text-align: right;\">\n      <th></th>\n      <th>days_10k_cumulative</th>\n      <th>days_5k_daily</th>\n      <th>resultant_infected</th>\n      <th>duration</th>\n      <th>peak_day</th>\n      <th>peak_value</th>\n    </tr>\n  </thead>\n  <tbody>\n    <tr>\n      <th>S1</th>\n      <td>[0.10222674726128124, 0.3141273961559589, 0.18...</td>\n      <td>[0.040681826306311904, 0.3810471340838643, 0.2...</td>\n      <td>[-0.001755913385446413, 0.9417176977646745, 0....</td>\n      <td>[-0.0031640286642646014, 0.6160236672462538, 0...</td>\n      <td>[0.03257522202708029, 0.8184853786696201, 0.09...</td>\n      <td>[-0.0005299356925107786, 1.0043473363899682, -...</td>\n    </tr>\n    <tr>\n      <th>S1_conf</th>\n      <td>[0.10703464184579206, 0.13149901664901067, 0.1...</td>\n      <td>[0.10748675669217123, 0.16624342173382226, 0.1...</td>\n      <td>[0.02204898183793534, 0.35316794331978635, 0.0...</td>\n      <td>[0.05100429909399256, 0.3266996511838595, 0.16...</td>\n      <td>[0.08964271332162595, 0.26011686142164114, 0.1...</td>\n      <td>[0.004914298635689227, 0.2843796367915384, 0.0...</td>\n    </tr>\n    <tr>\n      <th>ST</th>\n      <td>[0.1254944165706115, 0.4537105829860569, 0.380...</td>\n      <td>[0.10121701783469284, 0.5952288352729731, 0.48...</td>\n      <td>[0.006179944219319035, 1.046990209257154, 0.07...</td>\n      <td>[0.03449486898568997, 0.9689268067246103, 0.20...</td>\n      <td>[0.05791286051271614, 0.8327462935689894, 0.20...</td>\n      <td>[0.00020333789723037257, 1.001186242344622, 0....</td>\n    </tr>\n    <tr>\n      <th>ST_conf</th>\n      <td>[0.0924199220982782, 0.3692477874625456, 0.268...</td>\n      <td>[0.07875625678084436, 0.4780769273169466, 0.33...</td>\n      <td>[0.005501220553014215, 0.3904050299272703, 0.0...</td>\n      <td>[0.017076540054664618, 0.3102497066175255, 0.1...</td>\n      <td>[0.02788801174982767, 0.24711414524570544, 0.1...</td>\n      <td>[0.00010233445909333259, 0.24788462326978705, ...</td>\n    </tr>\n    <tr>\n      <th>S2</th>\n      <td>[[nan, 0.028817568566062046, 0.019164151906784...</td>\n      <td>[[nan, 0.058893378177406364, 0.044008522613480...</td>\n      <td>[[nan, 0.024767091295604504, 0.009577852554049...</td>\n      <td>[[nan, 0.029114341090355822, 0.005318158869351...</td>\n      <td>[[nan, -0.00802397922630127, 0.012987212973750...</td>\n      <td>[[nan, 0.003878447781845651, 0.001798377788299...</td>\n    </tr>\n    <tr>\n      <th>S2_conf</th>\n      <td>[[nan, 0.14771163455513397, 0.1486053241944691...</td>\n      <td>[[nan, 0.16720477189237293, 0.1668816428882461...</td>\n      <td>[[nan, 0.05658857159029375, 0.0396293052607296...</td>\n      <td>[[nan, 0.09506226162847561, 0.1040670182539510...</td>\n      <td>[[nan, 0.17269082059046392, 0.0984644644428569...</td>\n      <td>[[nan, 0.011351396391226017, 0.008223195429339...</td>\n    </tr>\n  </tbody>\n</table>\n</div>"
     },
     "execution_count": 31,
     "metadata": {},
     "output_type": "execute_result"
    }
   ],
   "source": [
    "pd.DataFrame.from_dict(sens_exp.problem.analysis)\n",
    "# need to break out the individual items per output"
   ],
   "metadata": {
    "collapsed": false,
    "ExecuteTime": {
     "end_time": "2023-06-26T10:31:05.546162600Z",
     "start_time": "2023-06-26T10:31:05.498803300Z"
    }
   }
  },
  {
   "cell_type": "code",
   "execution_count": 34,
   "outputs": [
    {
     "name": "stdout",
     "output_type": "stream",
     "text": [
      "Samples:\n",
      "\t4 parameters: ['u_ImportsFlights', 'u_Rzero', 'u_ImportsIndirect', 'p_FlightBans']\n",
      "\t640 evaluations \n",
      "\n",
      "Outputs:\n",
      "\t6 outputs: ['days_10k_cumulative', 'days_5k_daily', 'resultant_infected', 'duration', 'peak_day', 'peak_value']\n",
      "\t640 evaluations \n",
      "\n",
      "Analysis:\n",
      "days_10k_cumulative:\n",
      "                         ST   ST_conf\n",
      "u_ImportsFlights   0.125494  0.092420\n",
      "u_Rzero            0.453711  0.369248\n",
      "u_ImportsIndirect  0.380136  0.268387\n",
      "p_FlightBans       0.398138  0.246741 \n",
      "\n",
      "                         S1   S1_conf\n",
      "u_ImportsFlights   0.102227  0.107035\n",
      "u_Rzero            0.314127  0.131499\n",
      "u_ImportsIndirect  0.183581  0.150919\n",
      "p_FlightBans       0.215341  0.170984 \n",
      "\n",
      "                                             S2   S2_conf\n",
      "(u_ImportsFlights, u_Rzero)            0.028818  0.147712\n",
      "(u_ImportsFlights, u_ImportsIndirect)  0.019164  0.148605\n",
      "(u_ImportsFlights, p_FlightBans)       0.072649  0.195383\n",
      "(u_Rzero, u_ImportsIndirect)          -0.081151  0.207560\n",
      "(u_Rzero, p_FlightBans)               -0.166466  0.212959\n",
      "(u_ImportsIndirect, p_FlightBans)     -0.015381  0.229269 \n",
      "\n",
      "days_5k_daily:\n",
      "                         ST   ST_conf\n",
      "u_ImportsFlights   0.101217  0.078756\n",
      "u_Rzero            0.595229  0.478077\n",
      "u_ImportsIndirect  0.485687  0.336327\n",
      "p_FlightBans       0.235236  0.147545 \n",
      "\n",
      "                         S1   S1_conf\n",
      "u_ImportsFlights   0.040682  0.107487\n",
      "u_Rzero            0.381047  0.166243\n",
      "u_ImportsIndirect  0.232087  0.175868\n",
      "p_FlightBans       0.158026  0.134126 \n",
      "\n",
      "                                             S2   S2_conf\n",
      "(u_ImportsFlights, u_Rzero)            0.058893  0.167205\n",
      "(u_ImportsFlights, u_ImportsIndirect)  0.044009  0.166882\n",
      "(u_ImportsFlights, p_FlightBans)       0.077637  0.159106\n",
      "(u_Rzero, u_ImportsIndirect)           0.026953  0.427155\n",
      "(u_Rzero, p_FlightBans)               -0.163683  0.268467\n",
      "(u_ImportsIndirect, p_FlightBans)     -0.052690  0.262384 \n",
      "\n",
      "resultant_infected:\n",
      "                         ST   ST_conf\n",
      "u_ImportsFlights   0.006180  0.005501\n",
      "u_Rzero            1.046990  0.390405\n",
      "u_ImportsIndirect  0.071879  0.064204\n",
      "p_FlightBans       0.028820  0.034637 \n",
      "\n",
      "                         S1   S1_conf\n",
      "u_ImportsFlights  -0.001756  0.022049\n",
      "u_Rzero            0.941718  0.353168\n",
      "u_ImportsIndirect  0.035302  0.081155\n",
      "p_FlightBans       0.017638  0.030257 \n",
      "\n",
      "                                             S2   S2_conf\n",
      "(u_ImportsFlights, u_Rzero)            0.024767  0.056589\n",
      "(u_ImportsFlights, u_ImportsIndirect)  0.009578  0.039629\n",
      "(u_ImportsFlights, p_FlightBans)       0.004863  0.035285\n",
      "(u_Rzero, u_ImportsIndirect)          -0.040670  0.379370\n",
      "(u_Rzero, p_FlightBans)               -0.105229  0.360299\n",
      "(u_ImportsIndirect, p_FlightBans)     -0.010266  0.114991 \n",
      "\n",
      "duration:\n",
      "                         ST   ST_conf\n",
      "u_ImportsFlights   0.034495  0.017077\n",
      "u_Rzero            0.968927  0.310250\n",
      "u_ImportsIndirect  0.203515  0.189044\n",
      "p_FlightBans       0.157890  0.162235 \n",
      "\n",
      "                         S1   S1_conf\n",
      "u_ImportsFlights  -0.003164  0.051004\n",
      "u_Rzero            0.616024  0.326700\n",
      "u_ImportsIndirect  0.006419  0.163954\n",
      "p_FlightBans       0.058610  0.151193 \n",
      "\n",
      "                                             S2   S2_conf\n",
      "(u_ImportsFlights, u_Rzero)            0.029114  0.095062\n",
      "(u_ImportsFlights, u_ImportsIndirect)  0.005318  0.104067\n",
      "(u_ImportsFlights, p_FlightBans)       0.008868  0.089164\n",
      "(u_Rzero, u_ImportsIndirect)           0.114536  0.340872\n",
      "(u_Rzero, p_FlightBans)                0.046314  0.316420\n",
      "(u_ImportsIndirect, p_FlightBans)     -0.100606  0.230503 \n",
      "\n",
      "peak_day:\n",
      "                         ST   ST_conf\n",
      "u_ImportsFlights   0.057913  0.027888\n",
      "u_Rzero            0.832746  0.247114\n",
      "u_ImportsIndirect  0.202431  0.116299\n",
      "p_FlightBans       0.062465  0.040467 \n",
      "\n",
      "                         S1   S1_conf\n",
      "u_ImportsFlights   0.032575  0.089643\n",
      "u_Rzero            0.818485  0.260117\n",
      "u_ImportsIndirect  0.097286  0.136661\n",
      "p_FlightBans       0.066548  0.095061 \n",
      "\n",
      "                                             S2   S2_conf\n",
      "(u_ImportsFlights, u_Rzero)           -0.008024  0.172691\n",
      "(u_ImportsFlights, u_ImportsIndirect)  0.012987  0.098464\n",
      "(u_ImportsFlights, p_FlightBans)       0.000185  0.110440\n",
      "(u_Rzero, u_ImportsIndirect)           0.020506  0.429292\n",
      "(u_Rzero, p_FlightBans)               -0.161971  0.327549\n",
      "(u_ImportsIndirect, p_FlightBans)     -0.005203  0.187187 \n",
      "\n",
      "peak_value:\n",
      "                         ST   ST_conf\n",
      "u_ImportsFlights   0.000203  0.000102\n",
      "u_Rzero            1.001186  0.247885\n",
      "u_ImportsIndirect  0.001684  0.002064\n",
      "p_FlightBans       0.000905  0.001506 \n",
      "\n",
      "                         S1   S1_conf\n",
      "u_ImportsFlights  -0.000530  0.004914\n",
      "u_Rzero            1.004347  0.284380\n",
      "u_ImportsIndirect -0.001450  0.007709\n",
      "p_FlightBans      -0.002259  0.003992 \n",
      "\n",
      "                                             S2   S2_conf\n",
      "(u_ImportsFlights, u_Rzero)            0.003878  0.011351\n",
      "(u_ImportsFlights, u_ImportsIndirect)  0.001798  0.008223\n",
      "(u_ImportsFlights, p_FlightBans)       0.001711  0.008283\n",
      "(u_Rzero, u_ImportsIndirect)          -0.013642  0.286189\n",
      "(u_Rzero, p_FlightBans)               -0.014354  0.286556\n",
      "(u_ImportsIndirect, p_FlightBans)      0.010757  0.017143 \n",
      "\n",
      "\n"
     ]
    }
   ],
   "source": [
    "print(sens_exp.problem)"
   ],
   "metadata": {
    "collapsed": false,
    "ExecuteTime": {
     "end_time": "2023-06-26T10:35:49.715721300Z",
     "start_time": "2023-06-26T10:35:49.611915900Z"
    }
   }
  },
  {
   "cell_type": "markdown",
   "source": [
    "# testing SA sampling and discretisation re-read"
   ],
   "metadata": {
    "collapsed": false
   }
  },
  {
   "cell_type": "code",
   "execution_count": 17,
   "outputs": [],
   "source": [
    "sens_samples = sens_exp.problem.samples\n"
   ],
   "metadata": {
    "collapsed": false,
    "ExecuteTime": {
     "end_time": "2023-06-23T11:37:54.416842300Z",
     "start_time": "2023-06-23T11:37:54.392991600Z"
    }
   }
  },
  {
   "cell_type": "code",
   "execution_count": 18,
   "outputs": [
    {
     "name": "stdout",
     "output_type": "stream",
     "text": [
      "0.2    160\n",
      "0.0    160\n",
      "0.3    160\n",
      "0.1    160\n",
      "Name: u_ImportsIndirect, dtype: int64\n",
      "10    160\n",
      "17    160\n",
      "31    160\n",
      "24    160\n",
      "Name: p_FlightBans, dtype: int64\n",
      "60    160\n",
      "45    160\n",
      "30    160\n",
      "15    160\n",
      "Name: u_ImportsFlights, dtype: int64\n",
      "1.9    160\n",
      "1.5    160\n",
      "1.7    160\n",
      "1.3    160\n",
      "Name: u_Rzero, dtype: int64\n"
     ]
    }
   ],
   "source": [
    "# read ndarray, get columns that fit?\n",
    "# input 'names' attribute in problem\n",
    "# make copy of nd-array? or pass to pd.df due to type casting?\n",
    "# make list of all scenarios or generator?  think if it could be chunked\n",
    "#\n",
    "test = sens_exp.discretise_read_bulk(problem_varnames=sens_exp.problem['names'],\n",
    "                              problem_samples=sens_samples)\n",
    "for col in test.columns:\n",
    "  ser = test[col]\n",
    "  print(ser.value_counts())\n",
    "\n",
    " # seems like the sampling method has issues with 3-category experiments?"
   ],
   "metadata": {
    "collapsed": false,
    "ExecuteTime": {
     "end_time": "2023-06-23T11:37:54.966385500Z",
     "start_time": "2023-06-23T11:37:54.923049200Z"
    }
   }
  },
  {
   "cell_type": "markdown",
   "source": [
    "# testing post-processing (done)"
   ],
   "metadata": {
    "collapsed": false
   }
  },
  {
   "cell_type": "code",
   "execution_count": 12,
   "outputs": [],
   "source": [
    "post_ops = sens_exp.setup_postprocessing()"
   ],
   "metadata": {
    "collapsed": false,
    "ExecuteTime": {
     "end_time": "2023-06-20T14:03:48.042720300Z",
     "start_time": "2023-06-20T14:03:48.030760300Z"
    }
   }
  },
  {
   "cell_type": "code",
   "execution_count": 13,
   "outputs": [
    {
     "name": "stdout",
     "output_type": "stream",
     "text": [
      "OFM_PE: Running MULTIPROCESS mode with 144 experiments\n"
     ]
    },
    {
     "name": "stderr",
     "output_type": "stream",
     "text": [
      "100%|██████████| 144/144 [00:05<00:00, 25.85it/s]"
     ]
    },
    {
     "name": "stdout",
     "output_type": "stream",
     "text": [
      "OFM_PE: all experiments completed at 0.1 mins\n"
     ]
    },
    {
     "name": "stderr",
     "output_type": "stream",
     "text": [
      "\n"
     ]
    }
   ],
   "source": [
    "# run singular experiments\n",
    "# idx, output, output_post = sens_exp.handle_single_run(idx=None, variables=sens_exp.scenarios[0],\n",
    "#                            constants=sens_exp.params_const,\n",
    "#                            post_ops=post_ops)\n",
    "\n",
    "# move on to multiprocessing\n",
    "sens_exp.run_experiments_multiprocess(n_workers=4, postprocess_ops=post_ops)\n",
    "\n"
   ],
   "metadata": {
    "collapsed": false,
    "ExecuteTime": {
     "end_time": "2023-06-20T14:03:53.760839400Z",
     "start_time": "2023-06-20T14:03:48.047707900Z"
    }
   }
  },
  {
   "cell_type": "code",
   "execution_count": null,
   "outputs": [],
   "source": [],
   "metadata": {
    "collapsed": false
   }
  }
 ],
 "metadata": {
  "kernelspec": {
   "display_name": "Python 3",
   "language": "python",
   "name": "python3"
  },
  "language_info": {
   "codemirror_mode": {
    "name": "ipython",
    "version": 2
   },
   "file_extension": ".py",
   "mimetype": "text/x-python",
   "name": "python",
   "nbconvert_exporter": "python",
   "pygments_lexer": "ipython2",
   "version": "2.7.6"
  }
 },
 "nbformat": 4,
 "nbformat_minor": 0
}
