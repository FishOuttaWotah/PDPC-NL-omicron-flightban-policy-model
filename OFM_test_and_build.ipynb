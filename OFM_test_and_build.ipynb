{
 "cells": [
  {
   "cell_type": "code",
   "execution_count": 1,
   "metadata": {
    "collapsed": true
   },
   "outputs": [],
   "source": [
    "import os, sys\n",
    "\n",
    "os.chdir('D:\\Downloads\\@Books\\@TPM\\@PDPC\\@data_analysis\\model_build')\n",
    "sys.path.append('D:\\Downloads\\@Books\\@TPM\\@PDPC\\@data_analysis\\model_build')\n",
    "# ^ just a sanity thing: console starts from project root, but pycharm 'run in console' runs with 'model_build' as working directory\n",
    "\n",
    "import OFM_model as ofm\n",
    "import pandas as pd\n",
    "import numpy as np\n",
    "# import itertools\n",
    "# import seaborn as sns\n",
    "# import matplotlib.pyplot as plt\n",
    "# from matplotlib.colors import TwoSlopeNorm\n",
    "# import cmasher as cmr\n",
    "# import colorcet as cet\n",
    "from importlib import reload  ## for reloading packages\n",
    "import scipy\n",
    "# import pickle"
   ]
  },
  {
   "cell_type": "code",
   "execution_count": 2,
   "outputs": [],
   "source": [
    "# reload(ofm)\n",
    "# test_i_flights = pd.Series(np.arange(0, 20))\n",
    "# test_i_nonflights = pd.Series([1]*20)\n",
    "# test_i_other = pd.Series({5:1})\n",
    "# test_i_blank = pd.Series(dtype='float64')\n",
    "#\n",
    "# test_model = ofm.ISIRmodel_SingleRun(\n",
    "#     R_zero=1,\n",
    "#     t_incubation=1,\n",
    "#     func_infectious=[0,0,0],\n",
    "#     pop_total=100,\n",
    "#     sim_time=100,\n",
    "#     imports_flights=test_i_flights,\n",
    "#     imports_indirect=test_i_nonflights,\n",
    "#     imports_other=test_i_other,\n",
    "#     flightban_on=10,\n",
    "# )"
   ],
   "metadata": {
    "collapsed": false
   }
  },
  {
   "cell_type": "code",
   "execution_count": 3,
   "outputs": [],
   "source": [
    "imports_path = \"data_input/omi_prevalence_flights_not_inflated.pickletable\"\n",
    "\n",
    "imports_df = pd.read_pickle(imports_path)\n",
    "p_flightbans = range(-7, 57, 1)  # 1-day increments since -7 (week earlier) till 56 days\n",
    "s_flightbans = range(-3, 4, 1)\n",
    "R_range = list(np.arange(11, 31, 1) / 10)\n",
    "\n",
    "model_vers = 'v2'\n",
    "pop_NL = int(17.48e6)  # 17.48 million\n",
    "\n",
    "\n"
   ],
   "metadata": {
    "collapsed": false
   }
  },
  {
   "cell_type": "code",
   "execution_count": 4,
   "outputs": [],
   "source": [
    "# generate infectious distribution for v2\n",
    "available_distributions = {\n",
    "    'alpha': (2.0, 0.44),\n",
    "    'delta': (2.11, 0.50),\n",
    "    'omicron': (2.14, 0.59)\n",
    "}\n",
    "\n",
    "a = 2.14\n",
    "rate = .59\n",
    "x = range(0, 20, 1)\n",
    "func_serial = scipy.stats.gamma.pdf(x=x, a=a, scale=1 / rate, loc=-1)\n",
    "func_serial_cdf = scipy.stats.gamma.cdf(x=x, a=a, scale=1 / rate, loc=-1)  # for illustration\n",
    "# design a cutoff\n",
    "# Note: truncation of day 0 entry\n"
   ],
   "metadata": {
    "collapsed": false
   }
  },
  {
   "cell_type": "code",
   "execution_count": 5,
   "outputs": [],
   "source": [
    "test_i_nonflights = pd.Series([1]*20)\n",
    "test_i_other = pd.Series({5:100})\n",
    "test_i_blank = pd.Series(dtype='float64')"
   ],
   "metadata": {
    "collapsed": false
   }
  },
  {
   "cell_type": "code",
   "execution_count": 62,
   "outputs": [
    {
     "name": "stdout",
     "output_type": "stream",
     "text": [
      "OFM_PE Warning: OFM_model has non-integer flightban value(s) [None]. If this is intentional, do proceed.\n"
     ]
    }
   ],
   "source": [
    "reload(ofm)\n",
    "experiments = ofm.ISIR_PolicyExperiments(\n",
    " u_ImportsFunc=imports_df['import_pax'],\n",
    " p_FlightBans=tuple(s_flightbans) + (None,),\n",
    " u_ImportsIndirect=None,\n",
    " u_ImportsOther=None, #(pd.Series({10:10}), pd.Series({20:20})),\n",
    " u_Rzero=(1.5,),\n",
    " u_ImportsFlights=(15,),\n",
    " u_Func_Infectious= None, #(func_serial,),\n",
    " c_SimTime=300,\n",
    " c_import_scaling_mode=2,  # **\n",
    " c_model_engine='step_v1_constant_beta',\n",
    " # debug_mode=True\n",
    "                                         )"
   ],
   "metadata": {
    "collapsed": false
   }
  },
  {
   "cell_type": "code",
   "execution_count": 63,
   "outputs": [
    {
     "name": "stdout",
     "output_type": "stream",
     "text": [
      "OFM_PE: Running 8 experiments\n",
      "OFM_PE: all experiments completed in 0.0 mins\n"
     ]
    }
   ],
   "source": [
    "experiments.run_experiments()\n",
    "# debuggo = experiments.debug_experiment"
   ],
   "metadata": {
    "collapsed": false
   }
  },
  {
   "cell_type": "code",
   "execution_count": null,
   "outputs": [],
   "source": [],
   "metadata": {
    "collapsed": false
   }
  }
 ],
 "metadata": {
  "kernelspec": {
   "display_name": "Python 3",
   "language": "python",
   "name": "python3"
  },
  "language_info": {
   "codemirror_mode": {
    "name": "ipython",
    "version": 2
   },
   "file_extension": ".py",
   "mimetype": "text/x-python",
   "name": "python",
   "nbconvert_exporter": "python",
   "pygments_lexer": "ipython2",
   "version": "2.7.6"
  }
 },
 "nbformat": 4,
 "nbformat_minor": 0
}
