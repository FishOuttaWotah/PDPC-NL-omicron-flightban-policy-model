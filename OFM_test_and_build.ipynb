{
 "cells": [
  {
   "cell_type": "code",
   "execution_count": 16,
   "metadata": {
    "collapsed": true
   },
   "outputs": [],
   "source": [
    "import os, sys\n",
    "\n",
    "os.chdir('D:\\Downloads\\@Books\\@TPM\\@PDPC\\@data_analysis\\model_build')\n",
    "sys.path.append('D:\\Downloads\\@Books\\@TPM\\@PDPC\\@data_analysis\\model_build')\n",
    "# ^ just a sanity thing: console starts from project root, but pycharm 'run in console' runs with 'model_build' as working directory\n",
    "\n",
    "import OFM_model as ofm\n",
    "import pandas as pd\n",
    "import numpy as np\n",
    "# import itertools\n",
    "# import seaborn as sns\n",
    "# import matplotlib.pyplot as plt\n",
    "# from matplotlib.colors import TwoSlopeNorm\n",
    "# import cmasher as cmr\n",
    "# import colorcet as cet\n",
    "from importlib import reload  ## for reloading packages\n",
    "import scipy\n",
    "# import pickle"
   ]
  },
  {
   "cell_type": "code",
   "execution_count": 18,
   "outputs": [
    {
     "name": "stderr",
     "output_type": "stream",
     "text": [
      "C:\\Users\\fishe\\AppData\\Local\\Temp\\ipykernel_26868\\2383945084.py:5: FutureWarning: The default dtype for empty Series will be 'object' instead of 'float64' in a future version. Specify a dtype explicitly to silence this warning.\n",
      "  test_i_blank = pd.Series()\n"
     ]
    }
   ],
   "source": [
    "reload(ofm)\n",
    "test_i_flights = pd.Series(np.arange(0, 20))\n",
    "test_i_nonflights = pd.Series([1]*20)\n",
    "test_i_other = pd.Series({5:1})\n",
    "test_i_blank = pd.Series(dtype='float64')\n",
    "\n",
    "test_model = ofm.ISIRmodel_SingleRun(\n",
    "    R_zero=1,\n",
    "    t_incubation=1,\n",
    "    func_infectious=[0,0,0],\n",
    "    pop_total=100,\n",
    "    sim_time=100,\n",
    "    imports_flights=test_i_flights,\n",
    "    imports_indirect=test_i_nonflights,\n",
    "    imports_other=test_i_other,\n",
    "    flightban_on=10,\n",
    ")"
   ],
   "metadata": {
    "collapsed": false
   }
  },
  {
   "cell_type": "code",
   "execution_count": 19,
   "outputs": [],
   "source": [
    "imports_path = \"data_input/omi_prevalence_flights_not_inflated.pickletable\"\n",
    "\n",
    "imports_df = pd.read_pickle(imports_path)\n",
    "p_flightbans = range(-7, 57, 1)  # 1-day increments since -7 (week earlier) till 56 days\n",
    "s_flightbans = range(-3, 4, 1)\n",
    "R_range = list(np.arange(11, 31, 1) / 10)\n",
    "\n",
    "model_vers = 'v2'\n",
    "pop_NL = int(17.48e6)  # 17.48 million\n",
    "\n",
    "\n"
   ],
   "metadata": {
    "collapsed": false
   }
  },
  {
   "cell_type": "code",
   "execution_count": 3,
   "outputs": [],
   "source": [
    "# generate infectious distribution for v2\n",
    "available_distributions = {\n",
    "    'alpha': (2.0, 0.44),\n",
    "    'delta': (2.11, 0.50),\n",
    "    'omicron': (2.14, 0.59)\n",
    "}\n",
    "\n",
    "a = 2.14\n",
    "rate = .59\n",
    "x = range(0, 20, 1)\n",
    "func_serial = scipy.stats.gamma.pdf(x=x, a=a, scale=1 / rate, loc=-1)\n",
    "func_serial_cdf = scipy.stats.gamma.cdf(x=x, a=a, scale=1 / rate, loc=-1)  # for illustration\n",
    "# design a cutoff\n",
    "# Note: truncation of day 0 entry\n"
   ],
   "metadata": {
    "collapsed": false
   }
  },
  {
   "cell_type": "code",
   "execution_count": 4,
   "outputs": [],
   "source": [
    "#  examine the different infectious parameters\n",
    "R = 2\n",
    "inf_weight = func_serial.sum()\n",
    "inf_weighted = func_serial / inf_weight\n",
    "\n",
    "importses = np.array([1] * len(inf_weighted)) @ inf_weighted\n",
    "\n"
   ],
   "metadata": {
    "collapsed": false
   }
  },
  {
   "cell_type": "code",
   "execution_count": null,
   "outputs": [],
   "source": [
    "reload(ofm)\n",
    "experiments = ofm.ISIR_PolicyExperiments(u_ImportsFunc=imports_df['import_pax'],\n",
    "                                         p_FlightBans=tuple(s_flightbans),\n",
    "                                         u_Rzero=(1.5,),\n",
    "                                         u_ImportsFlights=(15,),\n",
    "                                         u_Func_Infectious=(func_serial,),\n",
    "                                         c_SimTime=300,\n",
    "                                         c_import_scaling_mode=2,  # **\n",
    "                                         c_model_engine='step_v2'\n",
    "                                         )"
   ],
   "metadata": {
    "collapsed": false
   }
  },
  {
   "cell_type": "code",
   "execution_count": null,
   "outputs": [
    {
     "name": "stderr",
     "output_type": "stream",
     "text": [
      "Exception in thread Thread-6 (_handle_tasks):\n",
      "Traceback (most recent call last):\n",
      "  File \"E:\\Users\\fishe\\miniconda3\\lib\\multiprocessing\\pool.py\", line 540, in _handle_tasks\n",
      "    put(task)\n",
      "  File \"E:\\Users\\fishe\\miniconda3\\lib\\multiprocessing\\connection.py\", line 211, in send\n",
      "    self._send_bytes(_ForkingPickler.dumps(obj))\n",
      "  File \"E:\\Users\\fishe\\miniconda3\\lib\\multiprocessing\\reduction.py\", line 51, in dumps\n",
      "    cls(buf, protocol).dump(obj)\n",
      "  File \"E:\\Users\\fishe\\miniconda3\\lib\\multiprocessing\\pool.py\", line 643, in __reduce__\n",
      "    raise NotImplementedError(\n",
      "NotImplementedError: pool objects cannot be passed between processes or pickled\n",
      "\n",
      "During handling of the above exception, another exception occurred:\n",
      "\n",
      "Traceback (most recent call last):\n",
      "  File \"E:\\Users\\fishe\\miniconda3\\lib\\threading.py\", line 1016, in _bootstrap_inner\n",
      "    self.run()\n",
      "  File \"E:\\Users\\fishe\\miniconda3\\lib\\threading.py\", line 953, in run\n",
      "    self._target(*self._args, **self._kwargs)\n",
      "  File \"E:\\Users\\fishe\\miniconda3\\lib\\multiprocessing\\pool.py\", line 544, in _handle_tasks\n",
      "    cache[job]._set(idx, (False, e))\n",
      "  File \"E:\\Users\\fishe\\miniconda3\\lib\\multiprocessing\\pool.py\", line 828, in _set\n",
      "    self._error_callback(self._value)\n",
      "  File \"D:\\Downloads\\@Books\\@TPM\\@PDPC\\@data_analysis\\model_build\\OFM_model.py\", line 203, in r_error\n",
      "    raise Exception(error)\n",
      "Exception: pool objects cannot be passed between processes or pickled\n"
     ]
    },
    {
     "name": "stdout",
     "output_type": "stream",
     "text": [
      "OFM_PE: Running MULTIPROCESS mode with 7 experiments\n"
     ]
    }
   ],
   "source": [
    "experiments.run_experiments_multiprocess()"
   ],
   "metadata": {
    "collapsed": false
   }
  },
  {
   "cell_type": "code",
   "execution_count": 7,
   "outputs": [
    {
     "data": {
      "text/plain": "[(0,\n  {'p_FlightBans': 13,\n   'u_TIncub': 3,\n   'u_REff': 1.5,\n   'u_NominalImports': 15,\n   'u_Func_Infectious': array([1.67886530e-01, 2.05095581e-01, 1.80495590e-01, 1.38887452e-01,\n          9.92902675e-02, 6.77547203e-02, 4.47739235e-02, 2.89002918e-02,\n          1.83224000e-02, 1.14528126e-02, 7.07727500e-03, 4.33222781e-03,\n          2.63091213e-03, 1.58694961e-03, 9.51672386e-04, 5.67814487e-04,\n          3.37277767e-04, 1.99550516e-04, 1.17648816e-04, 6.91431094e-05]),\n   'c_SimTime': 300,\n   'c_PopTotal': 17480000,\n   'c_model_engine': 'step_v2'}),\n (1,\n  {'p_FlightBans': 14,\n   'u_TIncub': 3,\n   'u_REff': 1.5,\n   'u_NominalImports': 15,\n   'u_Func_Infectious': array([1.67886530e-01, 2.05095581e-01, 1.80495590e-01, 1.38887452e-01,\n          9.92902675e-02, 6.77547203e-02, 4.47739235e-02, 2.89002918e-02,\n          1.83224000e-02, 1.14528126e-02, 7.07727500e-03, 4.33222781e-03,\n          2.63091213e-03, 1.58694961e-03, 9.51672386e-04, 5.67814487e-04,\n          3.37277767e-04, 1.99550516e-04, 1.17648816e-04, 6.91431094e-05]),\n   'c_SimTime': 300,\n   'c_PopTotal': 17480000,\n   'c_model_engine': 'step_v2'}),\n (2,\n  {'p_FlightBans': 15,\n   'u_TIncub': 3,\n   'u_REff': 1.5,\n   'u_NominalImports': 15,\n   'u_Func_Infectious': array([1.67886530e-01, 2.05095581e-01, 1.80495590e-01, 1.38887452e-01,\n          9.92902675e-02, 6.77547203e-02, 4.47739235e-02, 2.89002918e-02,\n          1.83224000e-02, 1.14528126e-02, 7.07727500e-03, 4.33222781e-03,\n          2.63091213e-03, 1.58694961e-03, 9.51672386e-04, 5.67814487e-04,\n          3.37277767e-04, 1.99550516e-04, 1.17648816e-04, 6.91431094e-05]),\n   'c_SimTime': 300,\n   'c_PopTotal': 17480000,\n   'c_model_engine': 'step_v2'}),\n (3,\n  {'p_FlightBans': 16,\n   'u_TIncub': 3,\n   'u_REff': 1.5,\n   'u_NominalImports': 15,\n   'u_Func_Infectious': array([1.67886530e-01, 2.05095581e-01, 1.80495590e-01, 1.38887452e-01,\n          9.92902675e-02, 6.77547203e-02, 4.47739235e-02, 2.89002918e-02,\n          1.83224000e-02, 1.14528126e-02, 7.07727500e-03, 4.33222781e-03,\n          2.63091213e-03, 1.58694961e-03, 9.51672386e-04, 5.67814487e-04,\n          3.37277767e-04, 1.99550516e-04, 1.17648816e-04, 6.91431094e-05]),\n   'c_SimTime': 300,\n   'c_PopTotal': 17480000,\n   'c_model_engine': 'step_v2'}),\n (4,\n  {'p_FlightBans': 17,\n   'u_TIncub': 3,\n   'u_REff': 1.5,\n   'u_NominalImports': 15,\n   'u_Func_Infectious': array([1.67886530e-01, 2.05095581e-01, 1.80495590e-01, 1.38887452e-01,\n          9.92902675e-02, 6.77547203e-02, 4.47739235e-02, 2.89002918e-02,\n          1.83224000e-02, 1.14528126e-02, 7.07727500e-03, 4.33222781e-03,\n          2.63091213e-03, 1.58694961e-03, 9.51672386e-04, 5.67814487e-04,\n          3.37277767e-04, 1.99550516e-04, 1.17648816e-04, 6.91431094e-05]),\n   'c_SimTime': 300,\n   'c_PopTotal': 17480000,\n   'c_model_engine': 'step_v2'}),\n (5,\n  {'p_FlightBans': 18,\n   'u_TIncub': 3,\n   'u_REff': 1.5,\n   'u_NominalImports': 15,\n   'u_Func_Infectious': array([1.67886530e-01, 2.05095581e-01, 1.80495590e-01, 1.38887452e-01,\n          9.92902675e-02, 6.77547203e-02, 4.47739235e-02, 2.89002918e-02,\n          1.83224000e-02, 1.14528126e-02, 7.07727500e-03, 4.33222781e-03,\n          2.63091213e-03, 1.58694961e-03, 9.51672386e-04, 5.67814487e-04,\n          3.37277767e-04, 1.99550516e-04, 1.17648816e-04, 6.91431094e-05]),\n   'c_SimTime': 300,\n   'c_PopTotal': 17480000,\n   'c_model_engine': 'step_v2'}),\n (6,\n  {'p_FlightBans': 19,\n   'u_TIncub': 3,\n   'u_REff': 1.5,\n   'u_NominalImports': 15,\n   'u_Func_Infectious': array([1.67886530e-01, 2.05095581e-01, 1.80495590e-01, 1.38887452e-01,\n          9.92902675e-02, 6.77547203e-02, 4.47739235e-02, 2.89002918e-02,\n          1.83224000e-02, 1.14528126e-02, 7.07727500e-03, 4.33222781e-03,\n          2.63091213e-03, 1.58694961e-03, 9.51672386e-04, 5.67814487e-04,\n          3.37277767e-04, 1.99550516e-04, 1.17648816e-04, 6.91431094e-05]),\n   'c_SimTime': 300,\n   'c_PopTotal': 17480000,\n   'c_model_engine': 'step_v2'})]"
     },
     "execution_count": 7,
     "metadata": {},
     "output_type": "execute_result"
    }
   ],
   "source": [
    "[ (n,v) for n, v in enumerate(experiments.scenarios)]"
   ],
   "metadata": {
    "collapsed": false
   }
  }
 ],
 "metadata": {
  "kernelspec": {
   "display_name": "Python 3",
   "language": "python",
   "name": "python3"
  },
  "language_info": {
   "codemirror_mode": {
    "name": "ipython",
    "version": 2
   },
   "file_extension": ".py",
   "mimetype": "text/x-python",
   "name": "python",
   "nbconvert_exporter": "python",
   "pygments_lexer": "ipython2",
   "version": "2.7.6"
  }
 },
 "nbformat": 4,
 "nbformat_minor": 0
}
