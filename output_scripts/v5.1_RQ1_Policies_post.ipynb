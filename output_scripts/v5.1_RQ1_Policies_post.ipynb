{
 "cells": [
  {
   "cell_type": "code",
   "execution_count": 49,
   "metadata": {
    "collapsed": true,
    "ExecuteTime": {
     "end_time": "2023-09-11T13:13:07.611054800Z",
     "start_time": "2023-09-11T13:13:07.483647100Z"
    }
   },
   "outputs": [],
   "source": [
    "import os, sys\n",
    "\n",
    "os.chdir('e:\\Downloads (E)\\@Books\\@TPM\\@PDPC\\@data_analysis\\model_build')\n",
    "sys.path.append('e:\\Downloads (E)\\@Books\\@TPM\\@PDPC\\@data_analysis\\model_build')\n",
    "import pandas as pd\n",
    "import numpy as np\n",
    "import seaborn as sns\n",
    "import matplotlib.pyplot as plt\n",
    "from matplotlib.colors import TwoSlopeNorm\n",
    "import matplotlib.ticker as ticker  ## special scaling stuff\n",
    "import cmasher as cmr\n",
    "import colorcet as cet\n",
    "from importlib import reload  ## for reloading packages\n",
    "import pickle\n",
    "import OFM_postprocess_scripts as post\n",
    "from importlib import reload"
   ]
  },
  {
   "cell_type": "code",
   "execution_count": 50,
   "outputs": [],
   "source": [
    "# retrieve files from saved pickles\n",
    "model_vers = 'v5.2'\n",
    "exps_batchname = 'Policies' # was 'Policies'\n",
    "\n",
    "\n",
    "exps_filename = f'model{model_vers}_exps_{exps_batchname}_'\n",
    "exps_s = post.read_experiments_from_pickle(f'data_output/{exps_filename}.pickleobject')\n",
    "# extract relevant meta-information from pickled experiment object\n",
    "meta_s = pd.DataFrame.from_dict(exps_s.results_metadata, orient='index')\n",
    "\n",
    "\n"
   ],
   "metadata": {
    "collapsed": false,
    "ExecuteTime": {
     "end_time": "2023-09-11T13:13:07.656931300Z",
     "start_time": "2023-09-11T13:13:07.545491700Z"
    }
   }
  },
  {
   "cell_type": "code",
   "execution_count": 51,
   "outputs": [],
   "source": [
    "\n",
    "# fill in placeholder value for flightbans of None\n",
    "meta_s['p_FlightBans'] = meta_s['p_FlightBans'].fillna(value=500).astype(int)\n",
    "meta_s['p_FlightBans_nom'] = meta_s['p_FlightBans'] - exps_s.c_nominal_ref_date\n",
    "results_s: pd.DataFrame = post.add_extra_metrics(exps_s)\n",
    "\n",
    "# invert the policy inputs to be relative again (more human-readable)\n",
    "policy_inputs = dict((v, k) for k, v in exps_s.p_flightbans_map.items())  # inversion process\n",
    "exps_s.results_verbose = exps_s.results_postprocess = None"
   ],
   "metadata": {
    "collapsed": false,
    "ExecuteTime": {
     "end_time": "2023-09-11T13:13:07.732728600Z",
     "start_time": "2023-09-11T13:13:07.651944800Z"
    }
   }
  },
  {
   "cell_type": "code",
   "execution_count": 52,
   "outputs": [],
   "source": [
    "# # Only use with 'Policies and Indirect' set\n",
    "# subsect_r = [1.3,]\n",
    "# subsect_bans = [-2, -1, 0, 1, 2, 7, 14] # in relative form from 26 Nov\n",
    "# subsect_indirect = [0, 0.1,]\n",
    "#\n",
    "# # need to restrict the policy inputs\n",
    "# policy_inputs = dict([(d, policy_inputs[d]) for d in subsect_bans])\n",
    "# # need to subsection the results DF\n",
    "# # results_subsect = results_s[results_s]\n",
    "# # might want to change the colours of week\n",
    "# meta_s = meta_s[meta_s['p_FlightBans'].isin(policy_inputs.values()) &\n",
    "#                    meta_s['u_Rzero'].isin(subsect_r) &\n",
    "#                    meta_s['u_ImportsIndirect'].isin(subsect_indirect)]\n",
    "# results_s = results_s[results_s['exp_id'].isin(meta_s.index)]\n"
   ],
   "metadata": {
    "collapsed": false,
    "ExecuteTime": {
     "end_time": "2023-09-11T13:13:07.743699500Z",
     "start_time": "2023-09-11T13:13:07.729736700Z"
    }
   }
  },
  {
   "cell_type": "markdown",
   "source": [
    "# Goal\n",
    "Make graph of time to 10k (via truncation)\n"
   ],
   "metadata": {
    "collapsed": false
   }
  },
  {
   "cell_type": "markdown",
   "source": [
    "# cumulative plot\n",
    "make title\n",
    "not include all lines\n",
    "change hue to specific colours\n",
    "y axis to cumulative, with formatting\n",
    "change the legend to be exact\n"
   ],
   "metadata": {
    "collapsed": false
   }
  },
  {
   "cell_type": "code",
   "execution_count": 96,
   "outputs": [],
   "source": [
    "## Colour palette\n",
    "# Pre-defined colours for week 1 and 2\n",
    "palette = {\n",
    "    500: 'lightsteelblue',\n",
    "    7: 'lightpink',\n",
    "}\n",
    "# Get remainder of the policies\n",
    "_remain = set(policy_inputs.keys()) - set(palette.keys())\n",
    "# Create a discrete colour palette from Cmasher's function\n",
    "_subpalette = cmr.get_sub_cmap('cet_rainbow4',#'cmr.guppy_r',\n",
    "                               start=0.25,\n",
    "                               stop=1.,\n",
    "                               N=len(_remain))\n",
    "# Add discrete colours with associated points into the palette for later use\n",
    "palette.update(dict((pol, c) for pol, c in zip(sorted(_remain), _subpalette.colors)))\n",
    "\n"
   ],
   "metadata": {
    "collapsed": false,
    "ExecuteTime": {
     "end_time": "2023-09-11T13:33:27.727418600Z",
     "start_time": "2023-09-11T13:33:27.702486100Z"
    }
   }
  },
  {
   "cell_type": "code",
   "execution_count": 97,
   "outputs": [
    {
     "data": {
      "text/plain": "<matplotlib.colors.ListedColormap at 0x20890e13af0>",
      "text/html": "<div style=\"vertical-align: middle;\"><strong>rainbow4_qual</strong> </div><div class=\"cmap\"><img alt=\"rainbow4_qual colormap\" title=\"rainbow4_qual\" style=\"border: 1px solid #555;\" src=\"data:image/png;base64,iVBORw0KGgoAAAANSUhEUgAAAgAAAABACAYAAABsv8+/AAAAHHRFWHRUaXRsZQByYWluYm93NF9xdWFsIGNvbG9ybWFwfqQ6rAAAACJ0RVh0RGVzY3JpcHRpb24AcmFpbmJvdzRfcXVhbCBjb2xvcm1hcOP01OkAAAAwdEVYdEF1dGhvcgBNYXRwbG90bGliIHYzLjYuMywgaHR0cHM6Ly9tYXRwbG90bGliLm9yZ9RFxVEAAAAydEVYdFNvZnR3YXJlAE1hdHBsb3RsaWIgdjMuNi4zLCBodHRwczovL21hdHBsb3RsaWIub3Jn+uNadgAAAVFJREFUeJzt1jERAkEABEHAwsePAzJ84AEhrwMLWEICDojAwMXcV023gk22ao7r7f09sEvX+3n2BAYel8/sCQwsz2X2BAZem7/s1Wn2AADg/wQAAAQJAAAIEgAAECQAACBIAABAkAAAgCABAABBAgAAggQAAAQJAAAIEgAAECQAACBIAABAkAAAgCABAABBAgAAggQAAAQJAAAIEgAAECQAACBIAABAkAAAgCABAABBAgAAggQAAAQJAAAIEgAAECQAACBIAABAkAAAgCABAABBAgAAggQAAAQJAAAIEgAAECQAACBIAABAkAAAgCABAABBAgAAggQAAAQJAAAIEgAAECQAACBIAABAkAAAgCABAABBAgAAggQAAAQJAAAIEgAAECQAACBIAABAkAAAgCABAABBAgAAggQAAAQJAAAIEgAAECQAACBIAABAkAAAgKAfhXQIZ4Hr9DAAAAAASUVORK5CYII=\"></div><div style=\"vertical-align: middle; max-width: 514px; display: flex; justify-content: space-between;\"><div style=\"float: left;\"><div title=\"#1d50ebff\" style=\"display: inline-block; width: 1em; height: 1em; margin: 0; vertical-align: middle; border: 1px solid #555; background-color: #1d50ebff;\"></div> under</div><div style=\"margin: 0 auto; display: inline-block;\">bad <div title=\"#00000000\" style=\"display: inline-block; width: 1em; height: 1em; margin: 0; vertical-align: middle; border: 1px solid #555; background-color: #00000000;\"></div></div><div style=\"float: right;\">over <div title=\"#d7050dff\" style=\"display: inline-block; width: 1em; height: 1em; margin: 0; vertical-align: middle; border: 1px solid #555; background-color: #d7050dff;\"></div></div>",
      "image/png": "[encoded data removed]"
     },
     "execution_count": 97,
     "metadata": {},
     "output_type": "execute_result"
    }
   ],
   "source": [
    "cmr.get_sub_cmap('cet_rainbow4',#'cmr.guppy_r',\n",
    "                               start=0.25,\n",
    "                               stop=1.,\n",
    "                               N=len(_remain))"
   ],
   "metadata": {
    "collapsed": false,
    "ExecuteTime": {
     "end_time": "2023-09-11T13:33:27.907507Z",
     "start_time": "2023-09-11T13:33:27.865619Z"
    }
   }
  },
  {
   "cell_type": "code",
   "execution_count": 98,
   "outputs": [],
   "source": [
    "# to check numerical results at 10k\n",
    "numerical = results_s.pivot(\n",
    "    values='cum_infected',\n",
    "    index='elapsed_nominal',\n",
    "    columns='exp_id',\n",
    ").apply(np.searchsorted, axis=0,\n",
    "        v=10000, side='left') - exps_s.c_nominal_ref_date"
   ],
   "metadata": {
    "collapsed": false,
    "ExecuteTime": {
     "end_time": "2023-09-11T13:33:28.048942400Z",
     "start_time": "2023-09-11T13:33:28.023694800Z"
    }
   }
  },
  {
   "cell_type": "code",
   "execution_count": 105,
   "outputs": [
    {
     "data": {
      "text/plain": "<Figure size 600x400 with 1 Axes>",
      "image/png": "[encoded data removed]"
     },
     "metadata": {},
     "output_type": "display_data"
    }
   ],
   "source": [
    "# Make plot\n",
    "# Jaarcongres settings; figsize (5.7, 5.05) or jaarcongres2 = (5.7, 2.1) (narrower aspect ratio)\n",
    "save_name = 'RQ1 Time to 10k Cumulative'\n",
    "_addon2 = 'manuscript'  # changing plot aspect ratio for manuscipt/presentation/etc.\n",
    "fig, ax = plt.subplots(figsize=(6, 4))\n",
    "\n",
    "# _addon2 = 'jaarcongres'  # changing plot aspect ratio for manuscipt/presentation/etc.\n",
    "# fig, ax = plt.subplots(figsize=(5.7, 2.1))\n",
    "\n",
    "\n",
    "sns.lineplot(data=results_s,\n",
    "             x='elapsed_nominal',\n",
    "             y='cum_infected',\n",
    "             hue='p_FlightBans_nom',\n",
    "             legend='full',\n",
    "             palette=palette,\n",
    "             ax=ax)\n",
    "\n",
    "\n",
    "# small tweaks for nicer plot\n",
    "plt.ylim((0, 10000))\n",
    "plt.xlim((-8, 42))  # was -14\n",
    "h, l = ax.get_legend_handles_labels()\n",
    "\n",
    "# # **\n",
    "# l[l.index('p_FlightBans_nom')] = 'Flight Ban'\n",
    "# l[l.index('u_ImportsIndirect')] = 'Indirect Imports %'\n",
    "l[l.index('500')] = 'None'\n",
    "legend_title = 'Day of\\nFlight Ban'\n",
    "ax.legend(handles=h,\n",
    "          labels=l,\n",
    "          title=legend_title,\n",
    "          loc='center left',\n",
    "          bbox_to_anchor=(1.03, 0.5),\n",
    "          frameon=False,\n",
    "          fontsize='small')  ## TODO: bbox, fontsize\n",
    "ax.set_ylabel('Cumulative Local Infections', fontsize='small') ## TODO: fontsize\n",
    "ax.set_xticks(range(-7, 43, 7))\n",
    "ax.set_xlabel('Days elapsed from 26 Nov 2021', fontsize='small')  ## TODO:fontsize\n",
    "_addon = '(linear plot)'\n",
    "_title = 'Effect of day of flight ban on\\n' \\\n",
    "         'time to 10.000 cumulative domestic cases\\n' \\\n",
    "         'with R0 = 1.3'\n",
    "# ax.set_title(f'{_title}, {_addon}')\n",
    "ax.axvline(0, c='gold', linewidth=10, zorder=0.1, alpha=0.25)\n",
    "# Output to graph\n",
    "plt.tight_layout()\n",
    "# REACTIVATE FROM THIS POINT\n",
    "plt.savefig(f'output_figures/{model_vers}/{model_vers}_{exps_batchname},{save_name},{_addon},{_addon2}.jpg', dpi=300)\n",
    "\n",
    "## Change axes to log presentation\n",
    "plt.yscale('log')\n",
    "plt.ylim(1, 100000)\n",
    "ax.set_ylabel('Cumulative Domestic Infections, log')\n",
    "_addon = '(log plot)'\n",
    "# ax.set_title(f'{_title}, {_addon}')\n",
    "ax.axhline(10000, c='violet', linewidth=10, zorder=0.1, alpha=0.25)\n",
    "# h, l = ax.get_legend_handles_labels()\n",
    "# ** addendum\n",
    "# legend_order = [0,7,6,5,4,3,2,1,8,9,10]\n",
    "# h = [h[o]for o in legend_order]\n",
    "# l = [l[o] for o in  legend_order]\n",
    "ax.legend(handles=h, labels=l, title=legend_title)  # **, previously was reversed()\n",
    "\n",
    "plt.tight_layout()\n",
    "plt.savefig(f'output_figures/{model_vers}/{model_vers}_{exps_batchname},{save_name},{_addon}, {_addon2}.jpg', dpi=300)"
   ],
   "metadata": {
    "collapsed": false,
    "ExecuteTime": {
     "end_time": "2023-09-11T13:39:43.493900900Z",
     "start_time": "2023-09-11T13:39:41.819544600Z"
    }
   }
  },
  {
   "cell_type": "code",
   "execution_count": null,
   "outputs": [],
   "source": [
    "# Same plot but subplots now\n",
    "save_name = 'RQ1 Time to 10k Cumulative'\n",
    "fig, ax = plt.subplots(figsize=(5, 6), nrows=2,\n",
    "                       sharex=True)\n",
    "for idx, subax in enumerate(ax):\n",
    "    if idx + 1 == ax.size:\n",
    "        legend_state = 'full'\n",
    "    else:\n",
    "        legend_state = None\n",
    "    sns.lineplot(data=results_s,\n",
    "                 x='elapsed_nominal',\n",
    "                 y='cum_infected',\n",
    "                 hue='p_FlightBans_nom',\n",
    "                 legend=legend_state,\n",
    "                 palette=palette,\n",
    "                 ax=subax)\n",
    "    subax.axvline(0, c='pink', linewidth=10, zorder=0.1, alpha=0.35)\n",
    "\n",
    "# small tweaks for nicer plot\n",
    "subax0, subax1 = ax\n",
    "subax0.xaxis.set_tick_params(labelbottom=True)  # needed for redrawing the x-axis after sharex=True in subplots function\n",
    "subax0.set_ylim((0, 10000))\n",
    "subax0.set_xlim((-14, 56))\n",
    "# h, l = ax.get_legend_handles_labels()\n",
    "# ax.legend(handles=h,\n",
    "#           labels=l,\n",
    "#           title=legend_title)\n",
    "subax0.set_ylabel('Cumulative Domestic Infections')\n",
    "subax0.set_xticks(range(-14, 57, 7))\n",
    "_addon = '(linear plot)'\n",
    "_title = 'Effect of day of flight ban on\\n' \\\n",
    "         'time to 10.000 cumulative domestic cases\\n' \\\n",
    "         'with R0 = 1.3'\n",
    "# subax0.set_title(f'{_title}, {_addon}')\n",
    "\n",
    "# Output to graph\n",
    "# plt.tight_layout()\n",
    "\n",
    "# plt.savefig(f'output_figures/v5/v5_{exps_batchname},{save_name},{_addon}.jpg', dpi=300)\n",
    "\n",
    "\n",
    "## Change axes to log presentation\n",
    "subax1.set_yscale('log')\n",
    "subax1.set_ylim(1, 30000)\n",
    "subax1.set_xlabel('Days elapsed from 26 Nov 2021')\n",
    "subax1.set_ylabel('Cumulative Domestic Infections, log')\n",
    "subax1.axhline(10000, c='lime', linewidth=10, zorder=0.1, alpha=0.15)\n",
    "\n",
    "legend_title = 'Day of Flight Ban'\n",
    "h, l = subax1.get_legend_handles_labels()\n",
    "# loc: anchor/datum on legend\n",
    "# bbox: location from fig to anchor\n",
    "# note use of fig instead of ax\n",
    "fig.legend(handles=h, labels=l, title=legend_title,\n",
    "           loc='lower center', bbox_to_anchor=(0.5, 1), frameon=True, ncols=len(h),\n",
    "           fontsize='8')\n",
    "subax1.get_legend().remove() # remove original subplot ax (we only needed it for getting plot information.\n",
    "\n",
    "plt.tight_layout()\n",
    "plt.savefig(f'output_figures/v5/v5_{exps_batchname},{save_name},2panel.jpg', dpi=300)"
   ],
   "metadata": {
    "collapsed": false
   }
  },
  {
   "cell_type": "code",
   "execution_count": null,
   "outputs": [],
   "source": [
    "daysearch_piv = results_s.pivot(\n",
    "    values='cum_infected',\n",
    "    index='elapsed_nominal',\n",
    "    columns='exp_id',\n",
    ")\n",
    "meta_s['days_10k_cumulative'] = daysearch_piv.apply(np.searchsorted, axis=0, v=10000,\n",
    "                                                    side='left') - exps_s.c_nominal_ref_date\n"
   ],
   "metadata": {
    "collapsed": false
   }
  },
  {
   "cell_type": "code",
   "execution_count": null,
   "outputs": [],
   "source": [
    "fig, ax = plt.subplots(figsize=(6, 5))\n",
    "plot_data = meta_s\n",
    "sns.scatterplot(plot_data,\n",
    "                x='p_FlightBans_nom',\n",
    "                y='days_10k_cumulative',\n",
    "                ax=ax\n",
    "                )"
   ],
   "metadata": {
    "collapsed": false
   }
  },
  {
   "cell_type": "code",
   "execution_count": null,
   "outputs": [],
   "source": [],
   "metadata": {
    "collapsed": false
   }
  }
 ],
 "metadata": {
  "kernelspec": {
   "display_name": "Python 3",
   "language": "python",
   "name": "python3"
  },
  "language_info": {
   "codemirror_mode": {
    "name": "ipython",
    "version": 2
   },
   "file_extension": ".py",
   "mimetype": "text/x-python",
   "name": "python",
   "nbconvert_exporter": "python",
   "pygments_lexer": "ipython2",
   "version": "2.7.6"
  }
 },
 "nbformat": 4,
 "nbformat_minor": 0
}
