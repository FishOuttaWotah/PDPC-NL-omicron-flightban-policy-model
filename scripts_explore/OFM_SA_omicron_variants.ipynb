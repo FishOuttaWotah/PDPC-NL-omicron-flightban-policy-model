{
 "cells": [
  {
   "cell_type": "code",
   "execution_count": 1,
   "metadata": {
    "collapsed": true
   },
   "outputs": [],
   "source": [
    "import pandas as pd\n",
    "\n"
   ]
  },
  {
   "cell_type": "code",
   "execution_count": 2,
   "outputs": [],
   "source": [
    "variants_dir = \"../data_gisaid\"\n",
    "variants_file = \"gisaid_omicron_2111_processed.pickletable\"\n",
    "variants_df = pd.read_pickle(f'{variants_dir}/{variants_file}')"
   ],
   "metadata": {
    "collapsed": false
   }
  },
  {
   "cell_type": "code",
   "execution_count": 0,
   "outputs": [],
   "source": [
    "# clean up data for specifically SA\n",
    "sa_obs_df = variants_df.loc[(\"South Africa\",), :].T"
   ],
   "metadata": {
    "collapsed": false
   }
  },
  {
   "cell_type": "code",
   "execution_count": 7,
   "outputs": [],
   "source": [
    "sa_obs_df['ratio'] = sa_obs_df['count'] / sa_obs_df['total']\n"
   ],
   "metadata": {
    "collapsed": false
   }
  },
  {
   "cell_type": "code",
   "execution_count": 8,
   "outputs": [],
   "source": [
    "# save\n",
    "save_file = \"omicron_samples_SA\"\n",
    "sa_obs_df.to_pickle(f\"{variants_dir}/{save_file}.pickletable\")\n",
    "sa_obs_df.to_csv(f'{variants_dir}/{save_file}.csv',sep=',')"
   ],
   "metadata": {
    "collapsed": false
   }
  }
 ],
 "metadata": {
  "kernelspec": {
   "display_name": "Python 3",
   "language": "python",
   "name": "python3"
  },
  "language_info": {
   "codemirror_mode": {
    "name": "ipython",
    "version": 2
   },
   "file_extension": ".py",
   "mimetype": "text/x-python",
   "name": "python",
   "nbconvert_exporter": "python",
   "pygments_lexer": "ipython2",
   "version": "2.7.6"
  }
 },
 "nbformat": 4,
 "nbformat_minor": 0
}
