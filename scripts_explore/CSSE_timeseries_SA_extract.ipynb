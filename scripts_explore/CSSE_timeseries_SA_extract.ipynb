{
 "cells": [
  {
   "cell_type": "code",
   "execution_count": 1,
   "metadata": {
    "collapsed": true
   },
   "outputs": [],
   "source": [
    "import pandas as pd\n",
    "from os import listdir\n"
   ]
  },
  {
   "cell_type": "code",
   "execution_count": 2,
   "outputs": [],
   "source": [
    "file_dir = '../../data_csse/csse_covid_19_data/csse_covid_19_daily_reports'\n",
    "files_present = [f for f in listdir(file_dir) if '2021' in f]"
   ],
   "metadata": {
    "collapsed": false
   }
  },
  {
   "cell_type": "code",
   "execution_count": 3,
   "outputs": [
    {
     "name": "stdout",
     "output_type": "stream",
     "text": [
      "All files present?: False\n"
     ]
    }
   ],
   "source": [
    "# we know that the file system is in mm-dd-yyyy format (terrible convention)\n",
    "dates = pd.date_range(start='2021-10-15',end='2022-01-31')  # already set period of interest\n",
    "dates_us = dates.strftime('%m-%d-%Y')  # convert to US method for matching\n",
    "dates_filenames = [f\"{n}.csv\" for n in dates_us]\n",
    "# sanity check\n",
    "match = [f in files_present for f in dates_filenames]\n",
    "print(f\"All files present?: {all(match)}\")"
   ],
   "metadata": {
    "collapsed": false
   }
  },
  {
   "cell_type": "code",
   "execution_count": 4,
   "outputs": [],
   "source": [
    "# targeted extraction for SA and for dates of interest\n",
    "sa_dict = {}\n",
    "for fname, date in zip(dates_filenames,dates):  # assume correct order\n",
    "    readfile = pd.read_csv(f'{file_dir}/{fname}')\n",
    "    sa_dict[date] = readfile[readfile['Country_Region'] == 'South Africa'].squeeze()\n",
    "\n",
    "del readfile, fname, date\n",
    "\n",
    "cases_df = pd.DataFrame.from_dict(sa_dict, orient='index')\n",
    "del sa_dict"
   ],
   "metadata": {
    "collapsed": false
   }
  },
  {
   "cell_type": "markdown",
   "source": [
    "# Correction\n",
    "a manual correction is added to the SA daily case rates\n",
    "[link, Twitter](https://twitter.com/nicd_sa/status/1463200722615513093)\n",
    "thus 23 nov 2021 --> 868 (instead of 18586\n",
    "(tbvh, many annoying things happening getting to here)"
   ],
   "metadata": {
    "collapsed": false
   }
  },
  {
   "cell_type": "code",
   "execution_count": 5,
   "outputs": [],
   "source": [
    "# correct day 23 Nov 2021 to be 868\n",
    "#\n",
    "parse1 = cases_df['Confirmed'].diff(periods=1)\n",
    "\n",
    "parse1.loc['2021-11-23'] = 868 # apply correction"
   ],
   "metadata": {
    "collapsed": false
   }
  },
  {
   "cell_type": "code",
   "execution_count": 6,
   "outputs": [],
   "source": [
    "parse1 = parse1.dropna().astype(int)"
   ],
   "metadata": {
    "collapsed": false
   }
  },
  {
   "cell_type": "code",
   "execution_count": 7,
   "outputs": [],
   "source": [
    "save_to_dir = \"../data_input\"\n",
    "save_to_name = \"data_CSSE.pickletable\"\n",
    "parse1.to_pickle(f\"{save_to_dir}/{save_to_name}\")"
   ],
   "metadata": {
    "collapsed": false
   }
  },
  {
   "cell_type": "code",
   "execution_count": 8,
   "outputs": [],
   "source": [
    "# readfile = pd.read_csv(f'{file_dir}/{file_name}')\n",
    "# # truncate for SA already\n",
    "# readfile = readfile[readfile['Country/Region'] == 'South Africa'].drop(['Province/State','Country/Region','Lat','Long'], axis=1).T.squeeze().rename('cases')\n",
    "# readfile.index = pd.to_datetime(readfile.index)"
   ],
   "metadata": {
    "collapsed": false
   }
  },
  {
   "cell_type": "code",
   "execution_count": 8,
   "outputs": [],
   "source": [],
   "metadata": {
    "collapsed": false
   }
  }
 ],
 "metadata": {
  "kernelspec": {
   "display_name": "Python 3",
   "language": "python",
   "name": "python3"
  },
  "language_info": {
   "codemirror_mode": {
    "name": "ipython",
    "version": 2
   },
   "file_extension": ".py",
   "mimetype": "text/x-python",
   "name": "python",
   "nbconvert_exporter": "python",
   "pygments_lexer": "ipython2",
   "version": "2.7.6"
  }
 },
 "nbformat": 4,
 "nbformat_minor": 0
}
