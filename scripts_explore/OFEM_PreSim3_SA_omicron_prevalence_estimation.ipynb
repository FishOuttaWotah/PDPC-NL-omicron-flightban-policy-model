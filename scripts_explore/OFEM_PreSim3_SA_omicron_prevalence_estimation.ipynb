{
 "cells": [
  {
   "cell_type": "code",
   "execution_count": 7,
   "outputs": [],
   "source": [
    "\n",
    "import pandas as pd\n",
    "import seaborn as sns\n",
    "import scipy\n",
    "from scipy.interpolate import interp1d\n",
    "import matplotlib.pyplot as plt\n",
    "import numpy as np\n",
    "import datetime as dt"
   ],
   "metadata": {
    "collapsed": false,
    "ExecuteTime": {
     "end_time": "2023-09-11T11:03:00.482496400Z",
     "start_time": "2023-09-11T11:03:00.307375700Z"
    }
   }
  },
  {
   "cell_type": "markdown",
   "source": [
    "# Generation of standard input data for v1 model\n",
    "## Experiment input data reconstruction\n",
    "This Jupyter script estimates the prevalence of infectious Omicron-carriers in South Africa, since the start of detection of Omicron. This prevalence time-series data will be used in the ISIR-model, as the 'shape' of importation rates of Omicron-carriers into the NL.\n",
    "\n",
    "From GISAID data, the first reported genomes of Omicron were from samples dating in the week of 1-7 November 2021*. The GISAID data also describes the proportion of Omicron genomes out of the submitted samples, which we shall use as proxy describing the proportion of Omicron cases out of all of SA's COVID-19 cases since early November.\n",
    "\n",
    "We use the John Hopkins' CSSE Coronavirus Dashboard dataset for the daily reported COVID-19 cases within SA. The code of the data operations can be found at ``OFEM_PreSim1_CSSE_timeseries_SA_extract.ipynb``.\n",
    "\n",
    "(TODO: describe the data operations)\n",
    "\n",
    "\n",
    "\\* Note that some literature state that the first case was on 9 November.\n",
    "- we know when the first submission of Omicron was done (GISAID source)\n",
    "\n",
    "\n",
    "\n",
    "## Assumptions\n",
    "- Assumption: currently very linear (not based on viral load peaks)\n",
    "- Assumption: uncounted cases is a constant, and not variable (e.g. due to increase/decrease in priority and testing rate)\n",
    "- Assumption: does not account for changes in testing rate\n",
    "- bias weeks by end of week (first known case is 9th Nov), because sampling numbers are reported on week of collection\n",
    "- CHECK: whether dates are represented correctly (ie. first day of first case, vs first day of month). Very important for policy application and output, because those work with dates instead."
   ],
   "metadata": {
    "collapsed": false
   }
  },
  {
   "cell_type": "markdown",
   "source": [
    "# Case numbers from CSSE: number of infectious people per day (proxy)\n",
    "note: this code section does the following:\n",
    "- apply a 'rolling inclusion' algorithm that lumps together cases from several days earlier and several days later, representing infectious people (TODO: cite papers here why)\n",
    "- multiply with a 'underestimation correction' factor to represent undetected cases. Currently set to 10, from NICD modelling estimates prior. Caveats at ADD.C\n",
    "\n",
    "note: some adjustments were made to the raw data:\n",
    "- time axis biased earlier in time to have similar curve as the PDPC factsheet table, which is in turn based from the NICD's own statistics. Even so, the numbers are slightly different (see ADD.B)\n",
    "- CSSE's correction of adding positive cases on a specific day was reversed due to very uncertain reasoning (see ADD.A)\n",
    "\n",
    "## Addendum\n",
    "- ADD.A: NICD announced a correction which led to a strong spike on one day. However, NICD's Twitter announcement on it is very unclear\n",
    "- ADD.B: the CSSE data seems to have a 1-day lag in general shape compared to NICD's own documents. However, the numbers are not exactly the same, and doesn't seem to be corrected for undetected cases.\n",
    "- ADD.C: the flat inflation factor is based on the NICD's modelling initiative at the start of the pandemic. In two updates, they mention an underestimation of 1:4 (detected vs total) to 1:10"
   ],
   "metadata": {
    "collapsed": false
   }
  },
  {
   "cell_type": "code",
   "execution_count": 8,
   "outputs": [],
   "source": [
    "# cases_dir = \"../data_factsheet\"\n",
    "# cases_file = \"SA_cases_nov2021.tsv\"\n",
    "# cases_df = pd.read_csv(f\"{cases_dir}/{cases_file}\", sep='\\t', comment='#').set_index('day')\n",
    "# # cases_df = cases_df.astype()  # for nullable format\n",
    "# read from pre-sorted CSSE data\n",
    "cases_df = pd.read_pickle(f\"../data_input/data_CSSE_2021-10-15_2022-06-30.pickletable\")"
   ],
   "metadata": {
    "collapsed": false,
    "ExecuteTime": {
     "end_time": "2023-09-11T11:03:00.517911400Z",
     "start_time": "2023-09-11T11:03:00.356827600Z"
    }
   }
  },
  {
   "cell_type": "code",
   "execution_count": 9,
   "outputs": [],
   "source": [
    "# cases_df.index = cases_df.index.shift(periods=-1, freq='D')  # (depreciated, time shift unnecessary?)\n",
    "# Constant definition for reference\n",
    "date_monthstart = '2021-11-01'  # start of november\n",
    "date_1st_omi = '2021-11-09'  # first reported case of Omicron\n",
    "date_reference = '2021-11-26'  # day of case study"
   ],
   "metadata": {
    "collapsed": false,
    "ExecuteTime": {
     "end_time": "2023-09-11T11:03:00.518909400Z",
     "start_time": "2023-09-11T11:03:00.380765500Z"
    }
   }
  },
  {
   "cell_type": "code",
   "execution_count": 10,
   "outputs": [],
   "source": [
    "# define weights from gamma function  (based on AdH serial interval distribution)\n",
    "a = 2.14\n",
    "rate = .59\n",
    "x = range(0, 13, 1)  # ends on the 13th day (note pythonic count)\n",
    "t_incubation = 3  # incubation day based on the UKHSA rapid review document (non-pythonic count)\n",
    "\n",
    "func_serial = scipy.stats.gamma.pdf(x=x, a=a, scale=1 / rate,\n",
    "                                    loc=-1)  # we set loc to be -1 for now (different from model input)\n",
    "func_serial_norm = func_serial / sum(func_serial)  # normalise\n",
    "# establish rolling window\n",
    "rw_fore = t_incubation - 1  # ie. number of days after t_incubation\n",
    "rw_aft = len(func_serial_norm) - t_incubation\n"
   ],
   "metadata": {
    "collapsed": false,
    "ExecuteTime": {
     "end_time": "2023-09-11T11:03:00.518909400Z",
     "start_time": "2023-09-11T11:03:00.397718Z"
    }
   }
  },
  {
   "cell_type": "code",
   "execution_count": 11,
   "outputs": [],
   "source": [
    "## NOTE: MOVED AFT\n",
    "# conduct rolling window\n",
    "# expressing as nd-array numpy\n",
    "# consider time range of validity\n",
    "# infectious_rw_collect = {}\n",
    "# for idx, val in zip(cases_df.index, cases_df.values):\n",
    "#     date_fore = idx - pd.to_timedelta(arg=rw_fore, unit='D')  # get infectious 'power' before\n",
    "#     date_aft = idx + pd.to_timedelta(arg=rw_aft, unit='D')  # get infectious 'power' after\n",
    "#     infectious_rw_collect[idx] = pd.Series(val * func_serial_norm,\n",
    "#                                            index=pd.date_range(\n",
    "#                                start=date_fore,\n",
    "#                                end=date_aft))\n",
    "#\n",
    "# infectious_rw_mat = pd.concat(infectious_rw_collect, axis=1)\n",
    "#\n",
    "#\n",
    "# to_save = False\n",
    "# # to save\n",
    "# save_dir = '../data_input'\n",
    "# name_irw_mat = 'infectious_func_rw_origin_matrix'\n",
    "#\n",
    "# if to_save:\n",
    "#\n",
    "#     infectious_rw_mat.to_pickle(f'{save_dir}/{name_irw_mat}.pickletable')\n",
    "#     infectious_rw_mat.to_csv(f'{save_dir}/{name_irw_mat}.csv')"
   ],
   "metadata": {
    "collapsed": false,
    "ExecuteTime": {
     "end_time": "2023-09-11T11:03:00.675997300Z",
     "start_time": "2023-09-11T11:03:00.414682300Z"
    }
   }
  },
  {
   "cell_type": "code",
   "execution_count": 12,
   "outputs": [],
   "source": [
    "# sns.lineplot(infectious_rw_func)"
   ],
   "metadata": {
    "collapsed": false,
    "ExecuteTime": {
     "end_time": "2023-09-11T11:03:00.707911500Z",
     "start_time": "2023-09-11T11:03:00.677994500Z"
    }
   }
  },
  {
   "cell_type": "code",
   "execution_count": 13,
   "outputs": [],
   "source": [
    "\n",
    "# (depreciated)\n",
    "# this block makes a rudimentary estimate of the current number of infectious persons\n",
    "# 'count fore' assumes future daily cases are part of the infectious group\n",
    "# count_pre_n = 3  # source Kim EA 2022 & internal\n",
    "# count_post_n = 10  #\n",
    "# INFL_FACTOR = 10  # (depreciated) inflation factor, assumed constant\n",
    "#\n",
    "# \"\"\" Rolling inclusion algorithm:\n",
    "# Includes cases several days before and after the report date\n",
    "# <A> also include last day (hence +1) \"\"\"\n",
    "# daily_sum = {}\n",
    "# for idx in cases_df.index:\n",
    "#     ilocidx = cases_df.index.get_loc(idx)\n",
    "#     daily_sum[idx] = cases_df.iloc[ilocidx - count_post_n\n",
    "#                                    :ilocidx + count_pre_n + 1].sum()  # <A>\n",
    "#\n",
    "# # NOTE to truncate fore and aft of the generate points, due to overflow TODO revise for clarity\n",
    "#\n",
    "# # create new DF for all cases in that time period\n",
    "# infectious = pd.DataFrame.from_dict(daily_sum, orient='index')\n",
    "#\n",
    "# # apply inflation (depreciated)\n",
    "# infectious_infl = infectious * INFL_FACTOR\n",
    "\n",
    "# save to pickle (or leave for later)\n",
    "# cases_df.to_pickle('data_input/data_cases_factsheet.pickletable')"
   ],
   "metadata": {
    "collapsed": false,
    "ExecuteTime": {
     "end_time": "2023-09-11T11:03:00.732846800Z",
     "start_time": "2023-09-11T11:03:00.691954300Z"
    }
   }
  },
  {
   "cell_type": "code",
   "execution_count": 14,
   "outputs": [],
   "source": [
    "# from interpolant of samples, we want to estimate the number of Omicron cases from cases numbers\n",
    "# date_nominal = \"2021-11-26\"  # nominal policy date\n",
    "# date_end = \"2021-12-10\"  # latest policy is 2 weeks after 26th, NOTE december\n"
   ],
   "metadata": {
    "collapsed": false,
    "ExecuteTime": {
     "end_time": "2023-09-11T11:03:00.733842600Z",
     "start_time": "2023-09-11T11:03:00.706916900Z"
    }
   }
  },
  {
   "cell_type": "code",
   "execution_count": 15,
   "outputs": [],
   "source": [
    "# gather dates of interest, starting on first observation (9th Nov 2021). End date is already truncated to 31st Jan 2022\n",
    "# infectious_infl = infectious_infl.loc[date_1st_omi:, :]\n",
    "# infectious_noinfl = infectious_rw_func.loc[date_1st_omi:]  # another for non-inflated numbers\n",
    "#\n",
    "# # convert from dates to number of days, for interpolation scheme to work. We start from 0 as 1st day (pythonic count) for consistency\n",
    "# cases_days_elapsed = (infectious_infl.index - pd.to_datetime(date_1st_omi)).days\n",
    "# date_day_ref = dict(zip(days_elapsed, cases_daily_roll.index))\n"
   ],
   "metadata": {
    "collapsed": false,
    "ExecuteTime": {
     "end_time": "2023-09-11T11:03:00.749799100Z",
     "start_time": "2023-09-11T11:03:00.722873800Z"
    }
   }
  },
  {
   "cell_type": "markdown",
   "source": [
    "# Samples from GISAID: proportion of Omicron in population (by proxy)\n",
    "note (expand later)\n",
    "- week bias forward\n",
    "- assumption of continuousness (and not noisy)"
   ],
   "metadata": {
    "collapsed": false
   }
  },
  {
   "cell_type": "code",
   "execution_count": 16,
   "outputs": [],
   "source": [
    "# read data file\n",
    "samples_dir = '../../data_gisaid'\n",
    "samples_file = 'omicron_samples_SA_long.pickletable'\n",
    "samples_df = pd.read_pickle(f'{samples_dir}/{samples_file}')\n",
    "# Bias weeks forward because of weekly sampling reporting (samples for the week are reported on the subsequent Sunday)\n",
    "samples_df.index = pd.to_datetime(samples_df.index) #- pd.to_timedelta(arg=1, unit='W')\n",
    "\n",
    "# Add data points for interpolation work\n",
    "samples_df.loc[pd.to_datetime(samples_df.index[0] - pd.to_timedelta(arg=1, unit='W'))] = [0, 0, 0]\n",
    "# samples_df.loc[pd.to_datetime(date_1st_omi) - dt.timedelta(days=1)] = [0, 0, 0]\n",
    "# ^ set day before 1st Omicron to be 0 for interpolation\n",
    "samples_df = samples_df.sort_index()  # sort to be in correct order again\n",
    "\n",
    "# Convert dates to days again\n",
    "samples_df['delta'] = pd.to_timedelta(\n",
    "    pd.to_datetime(samples_df.index) - pd.to_datetime(date_reference)\n",
    "    , unit='D').days  # converts to days, where omicron 1st observation = 0\n",
    "\n",
    "# save samples to model input folder\n",
    "# samples_df.to_pickle('data_input/omicron_samples_SA_mod1.pickletable')"
   ],
   "metadata": {
    "collapsed": false,
    "ExecuteTime": {
     "end_time": "2023-09-11T11:03:00.785703300Z",
     "start_time": "2023-09-11T11:03:00.738829800Z"
    }
   }
  },
  {
   "cell_type": "markdown",
   "source": [
    "# Estimating Omicron cases in SA\n",
    "This section estimates the number of Omicron cases in SA starting from the first day of observation (9th Nov 2021), via the following steps:\n",
    "1. As Omicron was competing with Delta, the share of Omicron cases increases per day in SA. This is represented by an interpolation function based on the weekly sampling data, which estimates the proportion of Omicron cases amongst the daily COVID cases.\n",
    "2. Multiply this proportion information with the SA daily case statistics, to get the number of infectious Omicron carriers per day.\n",
    "\n",
    "NOTE!: the ordering of inflation before interpolation may be incorrect. This might be revised later."
   ],
   "metadata": {
    "collapsed": false
   }
  },
  {
   "cell_type": "code",
   "execution_count": 0,
   "outputs": [],
   "source": [
    "# create interpolation function, using delta time [days since 1st omicron case].\n",
    "# 'linear' setting because of weird harmonics from quadratic fitting.\n",
    "omicron_ratio_fx = interp1d(x=samples_df['delta'], y=samples_df['ratio'], kind='linear', bounds_error=False)"
   ],
   "metadata": {
    "collapsed": false
   }
  },
  {
   "cell_type": "code",
   "execution_count": 21,
   "outputs": [],
   "source": [
    "# MOD\n",
    "infectious_rw_func = cases_df.to_frame('infectious_cases')\n",
    "infectious_rw_func['day_rel'] = (infectious_rw_func.index - pd.to_datetime(date_reference)).days\n",
    "infectious_rw_func['omi_pct'] = omicron_ratio_fx(infectious_rw_func['day_rel'])\n",
    "\n",
    "infectious_rw_func['infect_pax'] = infectious_rw_func['infectious_cases'] * infectious_rw_func['omi_pct']\n",
    "# infectious_rw_func2['infect_pax2'] =\n",
    "\n",
    "# apply rolling window?\n",
    "\n"
   ],
   "metadata": {
    "collapsed": false,
    "ExecuteTime": {
     "end_time": "2023-09-11T12:33:38.775086200Z",
     "start_time": "2023-09-11T12:33:38.763513100Z"
    }
   }
  },
  {
   "cell_type": "code",
   "execution_count": 22,
   "outputs": [],
   "source": [
    "# conduct rolling window, after the calculation of Omicron cases\n",
    "# expressing as nd-array numpy\n",
    "# consider time range of validity\n",
    "# We assume that new cases are reported on the 3rd day of the AdH&B curve (ie. start of symptomatic period)\n",
    "infectious_rw_collect = {}\n",
    "work_series = infectious_rw_func['infect_pax']\n",
    "for idx, val in zip(work_series.index, work_series.values):\n",
    "    date_fore = idx - pd.to_timedelta(arg=rw_fore, unit='D')  # get infectious 'power' before\n",
    "    date_aft = idx + pd.to_timedelta(arg=rw_aft, unit='D')  # get infectious 'power' after\n",
    "    # calculate the 'infectious power' of current individuals within their infectious window\n",
    "    infectious_rw_collect[idx] = pd.Series(val * func_serial_norm,\n",
    "                                           index=pd.date_range(\n",
    "                               start=date_fore,\n",
    "                               end=date_aft))\n",
    "\n",
    "infectious_rw_mat = pd.concat(infectious_rw_collect, axis=1)\n",
    "\n",
    "\n",
    "to_save = True\n",
    "# to save\n",
    "save_dir = '../data_input'\n",
    "name_irw_mat = 'infectious_func_rw_origin_matrix_v2'  # v2 is a rearrangement, such that the rolling window is applied after the number of Omicron cases are determined\n",
    "\n",
    "if to_save:\n",
    "\n",
    "    infectious_rw_mat.to_pickle(f'{save_dir}/{name_irw_mat}.pickletable')\n",
    "    infectious_rw_mat.to_csv(f'{save_dir}/{name_irw_mat}.csv')"
   ],
   "metadata": {
    "collapsed": false,
    "ExecuteTime": {
     "end_time": "2023-09-11T12:33:39.052312200Z",
     "start_time": "2023-09-11T12:33:38.780073300Z"
    }
   }
  },
  {
   "cell_type": "code",
   "execution_count": 23,
   "outputs": [],
   "source": [
    "# Get the 'infectious presence' # TODO what is infectious presence\n",
    "infectious_rw_func['infect_presence'] = infectious_rw_mat.sum(axis=1)"
   ],
   "metadata": {
    "collapsed": false,
    "ExecuteTime": {
     "end_time": "2023-09-11T12:33:39.067824200Z",
     "start_time": "2023-09-11T12:33:39.055304500Z"
    }
   }
  },
  {
   "cell_type": "code",
   "execution_count": 26,
   "outputs": [],
   "source": [
    "# DEPRECIATED, CAN BE DELETED\n",
    "# cases_days_elapsed = range(samples_df['delta'].min(), samples_df['delta'].max() + 1) # +1 due to pythonic count\n",
    "# apply interpolation to get proportion of Omicron infectious per day\n",
    "# infectious_rw_func = infectious_rw_mat.sum(axis=1).to_frame('infectious_cases')\n",
    "# infectious_rw_func['day_rel'] = (infectious_rw_func.index - pd.to_datetime(date_reference)).days\n",
    "# infectious_rw_func['omi_pct'] = omicron_ratio_fx(infectious_rw_func['day_rel'])\n",
    "#\n",
    "# infectious_rw_func['infect_pax'] = infectious_rw_func['infectious_cases'] * infectious_rw_func['omi_pct']\n",
    "\n",
    "name_irw_func = 'infectious_func_rw_rev3'\n",
    "# infectious_rw_func = infectious_rw_func.dropna(subset=['omi_pct','infect_pax'])  # drop NA things, depreciated\n",
    "infectious_rw_func = infectious_rw_func.loc[(infectious_rw_func['infect_presence'] > 0).idxmax():,:] # trim out early rows where no Omicron infectious power is available\n",
    "infectious_rw_func.to_csv(f'{save_dir}/{name_irw_func}.csv')  # save raw data\n",
    "infectious_rw_func = infectious_rw_func.reset_index(names='date')\n",
    "infectious_rw_func.to_pickle(f'{save_dir}/{name_irw_func}.pickletable')"
   ],
   "metadata": {
    "collapsed": false,
    "ExecuteTime": {
     "end_time": "2023-09-11T12:37:22.205132400Z",
     "start_time": "2023-09-11T12:37:22.177210900Z"
    }
   }
  },
  {
   "cell_type": "code",
   "execution_count": 10,
   "outputs": [],
   "source": [
    "# simple test plot\n",
    "# x = np.arange(interp_f1.x.min(), interp_f1.x.max())\n",
    "# plt.plot(x, interp_f1(x), label='linear')\n",
    "# plt.plot(x,interp_f2(x), label='quadratic')\n",
    "# plt.legend()"
   ],
   "metadata": {
    "collapsed": false
   }
  },
  {
   "cell_type": "markdown",
   "source": [
    "# cold storage"
   ],
   "metadata": {
    "collapsed": false
   }
  },
  {
   "cell_type": "code",
   "execution_count": 11,
   "outputs": [],
   "source": [
    "infectious_omi = infectious_infl.squeeze() * infectious_omi_pct  # squeeze to coerce into Series, otherwise error\n",
    "infectious_omi_noinfl = infectious_noinfl.squeeze() * infectious_omi_pct\n",
    "# find prevalence in SA\n",
    "pop_sa = int(60.142978e6)  # from factsheet\n",
    "flightpax_direct = 4839  # from Schiphol document\n",
    "flightpax_indirect = 980  # ditto\n",
    "flightpax_transfer = 7303  # ditto, but only transferring people through Schiphol\n",
    "\n",
    "flightpax_daily = (flightpax_direct + flightpax_indirect) / 30  # from schiphol, direct flights\n",
    "prevalence_omi = infectious_omi / pop_sa\n",
    "flightpax_omi = prevalence_omi * flightpax_daily\n",
    "\n",
    "# also create for uninflated versions\n",
    "prevalence_omi_noinfl = infectious_omi_noinfl / pop_sa\n",
    "flightpax_omi_noinfl = prevalence_omi_noinfl * flightpax_daily"
   ],
   "metadata": {
    "collapsed": false
   }
  },
  {
   "cell_type": "code",
   "execution_count": 12,
   "outputs": [
    {
     "data": {
      "text/plain": "0.15385308751350346"
     },
     "execution_count": 12,
     "metadata": {},
     "output_type": "execute_result"
    }
   ],
   "source": [
    "# flightpax_omi.loc[\"2021-11-09\":\"2021-11-25\"].sum() * 2\n",
    "flightpax_omi_noinfl.loc[\"2021-11-09\":\"2021-11-25\"].sum()\n"
   ],
   "metadata": {
    "collapsed": false
   }
  },
  {
   "cell_type": "code",
   "execution_count": 13,
   "outputs": [],
   "source": [
    "flightpax_omi_noinfl_elapsed = flightpax_omi_noinfl.to_frame(name='import_pax')\n",
    "flightpax_omi_noinfl_elapsed['prevalence'] = prevalence_omi_noinfl\n",
    "flightpax_omi_noinfl_elapsed['day'] = cases_days_elapsed.values\n",
    "flightpax_omi_noinfl_elapsed = flightpax_omi_noinfl_elapsed.reset_index(names='date').set_index('day')\n",
    "flightpax_omi_noinfl_elapsed.to_pickle('data_input/omi_prevalence_flights_not_inflated.pickletable')"
   ],
   "metadata": {
    "collapsed": false
   }
  },
  {
   "cell_type": "code",
   "execution_count": 13,
   "outputs": [],
   "source": [],
   "metadata": {
    "collapsed": false
   }
  },
  {
   "cell_type": "code",
   "execution_count": 14,
   "outputs": [],
   "source": [
    "# create dumb generator\n",
    "# prob_roll = np.random.rand(prevalence_omi.size,int(round(flightpax_daily)))"
   ],
   "metadata": {
    "collapsed": false
   }
  },
  {
   "cell_type": "code",
   "execution_count": 15,
   "outputs": [],
   "source": [
    "# np.less(prob_roll,prevalence_omi.to_numpy()[:,np.newaxis]).sum(axis=1)\n",
    "# for ridx, prob in enumerate(prevalence_omi):\n",
    "\n"
   ],
   "metadata": {
    "collapsed": false
   }
  },
  {
   "cell_type": "markdown",
   "source": [
    "#  Preliminary build for class-style construction\n",
    "Cold storage for now"
   ],
   "metadata": {
    "collapsed": false
   }
  },
  {
   "cell_type": "code",
   "execution_count": 16,
   "outputs": [],
   "source": [
    "# from typing import Callable, Dict, Tuple\n",
    "#\n",
    "# # this class should be refactored later for experimental design, for efficiency\n",
    "# class OI_importer_build:\n",
    "#\n",
    "#     def __init__(self, path_samples):\n",
    "#         # putting down some known variables\n",
    "#         # self.date_ref : str  # default, is it necessary?\n",
    "#         self.path_samples : str = path_samples # default\n",
    "#         self.path_cases : str  # default\n",
    "#         self.daily_pax_flights: int|Dict # number of inbound passengers, either constant or dict/function (future)\n",
    "#         self.daily_imports: float\n",
    "#         self.samples_tbias: int  # time bias for sampling curve fore/aft of data\n",
    "#         self.cases_tbias: int # time bias for cases\n",
    "#         self.cases_tinclude: int # time inclusion for fore/aft cases. May extend to tuple for both fore and aft inclusion (which might need a custom function)\n",
    "#\n",
    "#         self.omi_ratio_input = None # inputs for the interp1d\n",
    "#         self.omi_ratio_curve = None # function itself, output of samples submodule\n",
    "#         self.omi_ratio_daily = None # dict lookup\n",
    "#         self.cases_lookup = None # lookup (prolly dict) of daily cases emerging\n",
    "#         self.t_restrict: int|None # day (delta) on which flights are restricted\n",
    "#\n",
    "#         pass\n",
    "#\n",
    "#     def generate_omicron_ratios(self):\n",
    "#         # read from pickle and generate interp1d function and dict\n",
    "#         self.omi_ratio_input = pd.read_pickle(self.path_samples)\n",
    "#         pass"
   ],
   "metadata": {
    "collapsed": false
   }
  }
 ],
 "metadata": {
  "kernelspec": {
   "display_name": "Python 3",
   "language": "python",
   "name": "python3"
  },
  "language_info": {
   "codemirror_mode": {
    "name": "ipython",
    "version": 2
   },
   "file_extension": ".py",
   "mimetype": "text/x-python",
   "name": "python",
   "nbconvert_exporter": "python",
   "pygments_lexer": "ipython2",
   "version": "2.7.6"
  }
 },
 "nbformat": 4,
 "nbformat_minor": 0
}
