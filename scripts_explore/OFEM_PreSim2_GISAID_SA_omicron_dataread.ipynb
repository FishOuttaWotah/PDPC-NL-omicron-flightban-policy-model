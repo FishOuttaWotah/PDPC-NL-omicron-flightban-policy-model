{
 "cells": [
  {
   "cell_type": "markdown",
   "source": [
    "# Reading GISAID CoV variant reporting datafile (2023/02/09)\n",
    "This Jupyter script reads and processes the COVID-19 variants datafile. The datafile is presented in an Excel file, with the following information:\n",
    "1. VOC/VOI are separated into different Excel sheets\n",
    "2. Each sheet has all the countries that have reported any genomic observation(s)\n",
    "3. Rows are countries, with two subrows for 'count' and 'total'. 'total' refers to the total observations for all COVID variants for that country and week, 'count' refers to only that particular variant. The 'total' cell will be empty if 'count' is also empty.\n",
    "4. Columns are week of detection, in yyyy-mm-dd format\n",
    "5. Unreported cells = not detected for that country and week.\n",
    "\n",
    "This script does the following:\n",
    "1. Extract information for only the Omicron variant\n",
    "2. Section the dataset at the start of Omicron detection, till a certain time (default: 4 months) after that point\n",
    "3. Eliminate countries that do not have much reporting in the time period.\n",
    "4. Adapt the data to be easier to process in code, at the cost of human readability.\n",
    "5. Save the processed data as a separate data file(s). By default, two copies are saved:\n",
    "    - a comma-separated text file (.csv). The CSV is for basic visual reference, as the pickle file is not in a human-readable format\n",
    "    - a pickled Pandas dataframe (.pickletable). The pickle is for further data processing, as it is faster to load and requires less processing\n",
    "\n",
    "This script is written in the Python programming language."
   ],
   "metadata": {
    "collapsed": false
   }
  },
  {
   "cell_type": "code",
   "execution_count": 4,
   "metadata": {
    "collapsed": true
   },
   "outputs": [],
   "source": [
    "import os, sys\n",
    "\n",
    "os.chdir('E:\\Downloads\\@Books\\@TPM\\@PDPC\\@data_analysis\\model_build')\n",
    "sys.path.append('E:\\Downloads\\@Books\\@TPM\\@PDPC\\@data_analysis\\model_build')\n",
    "import pandas as pd\n",
    "# import openpyxl"
   ]
  },
  {
   "cell_type": "code",
   "execution_count": 5,
   "outputs": [],
   "source": [
    "target_dir = '../data_gisaid'\n",
    "target_file = 'gisaid_variants_statistics_2023_02_09_1433.xlsx'\n",
    "\n",
    "# define sheet to read\n",
    "read_sheets = \"VOC Omicron\"\n",
    "\n",
    "base_read = pd.read_excel(io=f'{target_dir}/{target_file}',\n",
    "                          sheet_name=read_sheets,\n",
    "                          engine='openpyxl',\n",
    "                          parse_dates=True)\n",
    "# rename some columns to intuitive names, hardcoded\n",
    "base_read.rename(columns= {'Unnamed: 0': 'Country',\n",
    "                  'VOC Omicron GRA (B.1.1.529+BA.*) ': 'Type'},\n",
    "                 inplace=True)\n",
    "\n",
    "# --- Data Pre-cleaning Operations ---\n",
    "# 1a: copying names to index TODO document in Markdown\n",
    "c_index = base_read['Country']\n",
    "if not c_index.notna().all(): # only process if DF is raw\n",
    "    country_names = c_index[c_index.notna()]\n",
    "    country_names.index += 1\n",
    "    base_read.loc[country_names.index,'Country'] = country_names\n",
    "    del country_names  # not used anymore\n",
    "\n",
    "# 1b: convert to multiindex\n",
    "base_read.set_index(['Country','Type'], inplace=True)\n",
    "# 2: section for time period of interest\n",
    "# derive first time of incidence, and add a delta of N from that point onwards (eg. we know each column yields a week\n",
    "# eliminate all columns before?\n",
    "col_first = None\n",
    "col_first_idx = None\n",
    "col_delta = 12 * 4  # in weeks, 1 year\n",
    "for idx, col in enumerate(base_read.columns):\n",
    "    if base_read[col].notna().any():\n",
    "        col_first_idx = idx\n",
    "        col_first = col\n",
    "        break\n",
    "if col_first is None: # sanity check\n",
    "    raise ValueError(\"Cannot find any date column with first reporting of variant\")\n",
    "base_read = base_read.iloc[:, slice(col_first_idx, col_first_idx+col_delta)]\n",
    "\n",
    "# 3: section for countries with entries\n",
    "drop_thresh = col_delta - 2\n",
    "base_read.dropna(thresh=drop_thresh, inplace=True)\n",
    "# 4: convert to nullable int dtype\n",
    "base_read = base_read.astype(pd.Int32Dtype())\n",
    "# TODO ask R if she knows the genome submission rate is affected by novelty or standard sampling rate\n",
    "# LAST: save to alternate file\n",
    "# save_name = \"gisaid_omicron_2111_processed\"\n",
    "# base_read.to_pickle(f'{target_dir}/{save_name}.pickletable')\n",
    "# base_read.to_csv(f'{target_dir}/{save_name}_(preview).csv', sep=',')"
   ],
   "metadata": {
    "collapsed": false
   }
  },
  {
   "cell_type": "code",
   "execution_count": 6,
   "outputs": [],
   "source": [
    "variants_dir = \"../data_gisaid\"\n",
    "# variants_file = \"gisaid_omicron_2111_processed.pickletable\"\n",
    "# variants_df = pd.read_pickle(f'{variants_dir}/{variants_file}')\n",
    "# clean up data for specifically SA\n",
    "sa_obs_df = base_read.loc[(\"South Africa\",), :].T\n",
    "sa_obs_df['ratio'] = sa_obs_df['count'] / sa_obs_df['total']\n",
    "\n",
    "# save\n",
    "save_file = \"omicron_samples_SA_long\"\n",
    "sa_obs_df.to_pickle(f\"{variants_dir}/{save_file}.pickletable\")\n",
    "sa_obs_df.to_csv(f'{variants_dir}/{save_file}.csv', sep=',')"
   ],
   "metadata": {
    "collapsed": false
   }
  },
  {
   "cell_type": "code",
   "execution_count": null,
   "outputs": [],
   "source": [
    "# Test to see if the file is read back in the exact same manner\n",
    "# base_read3 = pd.read_pickle(f'{target_dir}/{save_name}')\n",
    "\n"
   ],
   "metadata": {
    "collapsed": false
   }
  }
 ],
 "metadata": {
  "kernelspec": {
   "display_name": "Python 3",
   "language": "python",
   "name": "python3"
  },
  "language_info": {
   "codemirror_mode": {
    "name": "ipython",
    "version": 2
   },
   "file_extension": ".py",
   "mimetype": "text/x-python",
   "name": "python",
   "nbconvert_exporter": "python",
   "pygments_lexer": "ipython2",
   "version": "2.7.6"
  }
 },
 "nbformat": 4,
 "nbformat_minor": 0
}
